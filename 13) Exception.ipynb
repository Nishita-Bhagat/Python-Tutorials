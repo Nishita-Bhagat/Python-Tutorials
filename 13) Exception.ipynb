{
  "nbformat": 4,
  "nbformat_minor": 0,
  "metadata": {
    "colab": {
      "name": "Exception.ipynb",
      "provenance": [],
      "collapsed_sections": []
    },
    "kernelspec": {
      "name": "python3",
      "display_name": "Python 3"
    },
    "language_info": {
      "name": "python"
    }
  },
  "cells": [
    {
      "cell_type": "code",
      "metadata": {
        "id": "n3ZrMs8jy1ts"
      },
      "source": [
        "# assert\n",
        "output = 10\n",
        "assert output < 15, \"The condition fails\""
      ],
      "execution_count": null,
      "outputs": []
    },
    {
      "cell_type": "code",
      "metadata": {
        "colab": {
          "base_uri": "https://localhost:8080/",
          "height": 180
        },
        "id": "bnEx6pXPSQCr",
        "outputId": "56cf51ac-b1a9-497e-c4a7-543128e2cb39"
      },
      "source": [
        "output = 20\n",
        "assert output < 15, \"The condition fails\""
      ],
      "execution_count": null,
      "outputs": [
        {
          "output_type": "error",
          "ename": "AssertionError",
          "evalue": "ignored",
          "traceback": [
            "\u001b[0;31m---------------------------------------------------------------------------\u001b[0m",
            "\u001b[0;31mAssertionError\u001b[0m                            Traceback (most recent call last)",
            "\u001b[0;32m<ipython-input-2-919f77739800>\u001b[0m in \u001b[0;36m<module>\u001b[0;34m()\u001b[0m\n\u001b[1;32m      1\u001b[0m \u001b[0moutput\u001b[0m \u001b[0;34m=\u001b[0m \u001b[0;36m20\u001b[0m\u001b[0;34m\u001b[0m\u001b[0;34m\u001b[0m\u001b[0m\n\u001b[0;32m----> 2\u001b[0;31m \u001b[0;32massert\u001b[0m \u001b[0moutput\u001b[0m \u001b[0;34m<\u001b[0m \u001b[0;36m15\u001b[0m\u001b[0;34m,\u001b[0m \u001b[0;34m\"The condition fails\"\u001b[0m\u001b[0;34m\u001b[0m\u001b[0;34m\u001b[0m\u001b[0m\n\u001b[0m",
            "\u001b[0;31mAssertionError\u001b[0m: The condition fails"
          ]
        }
      ]
    },
    {
      "cell_type": "code",
      "metadata": {
        "colab": {
          "base_uri": "https://localhost:8080/"
        },
        "id": "r_cNNEmmTyXw",
        "outputId": "59f204bb-2fa7-4476-f480-ca68fa51e1fa"
      },
      "source": [
        "# Try and Except\n",
        "l = [1,2,3]\n",
        "try:\n",
        "    l[5] = 10\n",
        "except:\n",
        "    print(\"Your code has error\")"
      ],
      "execution_count": null,
      "outputs": [
        {
          "output_type": "stream",
          "text": [
            "Your code has error\n"
          ],
          "name": "stdout"
        }
      ]
    },
    {
      "cell_type": "code",
      "metadata": {
        "id": "z66yIM_ET8Fk"
      },
      "source": [
        "# No error\n",
        "l = [1,2,3]\n",
        "try:\n",
        "    l[0] = 10\n",
        "except:\n",
        "    print(\"Your code has error\")"
      ],
      "execution_count": 1,
      "outputs": []
    },
    {
      "cell_type": "code",
      "metadata": {
        "colab": {
          "base_uri": "https://localhost:8080/"
        },
        "id": "Yw7MVcQQdPK6",
        "outputId": "7faa82b9-c579-4156-f669-1f7e8d53cf45"
      },
      "source": [
        "# Use appropriate error\n",
        "l = [1,2,3]\n",
        "try:\n",
        "    l[5] = 10\n",
        "except IndexError as e:\n",
        "    print(\"Your code has error\", e)"
      ],
      "execution_count": 2,
      "outputs": [
        {
          "output_type": "stream",
          "text": [
            "Your code has error list assignment index out of range\n"
          ],
          "name": "stdout"
        }
      ]
    },
    {
      "cell_type": "code",
      "metadata": {
        "colab": {
          "base_uri": "https://localhost:8080/"
        },
        "id": "Zbn-y1uFdYqN",
        "outputId": "1f048ab9-4cf6-42b1-d305-cff5fd962a5e"
      },
      "source": [
        "# Finally\n",
        "l = [1,2,3]\n",
        "try:\n",
        "    l[2] = 10\n",
        "except IndexError as e:\n",
        "    print(\"Your code has error\", e)\n",
        "finally:\n",
        "    print(\"This is final code\")"
      ],
      "execution_count": 3,
      "outputs": [
        {
          "output_type": "stream",
          "text": [
            "This is final code\n"
          ],
          "name": "stdout"
        }
      ]
    },
    {
      "cell_type": "code",
      "metadata": {
        "id": "wZTDZ_HOdch-"
      },
      "source": [
        ""
      ],
      "execution_count": null,
      "outputs": []
    }
  ]
}