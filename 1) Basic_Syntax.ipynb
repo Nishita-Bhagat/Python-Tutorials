{
  "nbformat": 4,
  "nbformat_minor": 0,
  "metadata": {
    "colab": {
      "name": "Basic Syntax.ipynb",
      "provenance": [],
      "collapsed_sections": []
    },
    "kernelspec": {
      "name": "python3",
      "display_name": "Python 3"
    },
    "language_info": {
      "name": "python"
    }
  },
  "cells": [
    {
      "cell_type": "code",
      "metadata": {
        "colab": {
          "base_uri": "https://localhost:8080/"
        },
        "id": "0VdGowMW6qxR",
        "outputId": "0514bf93-515c-47f3-8562-5cce49098fba"
      },
      "source": [
        "# Print\n",
        "print(\"Hello World!\")"
      ],
      "execution_count": null,
      "outputs": [
        {
          "output_type": "stream",
          "text": [
            "Hello World!\n"
          ],
          "name": "stdout"
        }
      ]
    },
    {
      "cell_type": "code",
      "metadata": {
        "colab": {
          "base_uri": "https://localhost:8080/"
        },
        "id": "G5gX3B8c7H6h",
        "outputId": "aa7680d0-e4fb-433b-8070-c80af84278d9"
      },
      "source": [
        "# Variable assignment\n",
        "a = 10\n",
        "print(a)"
      ],
      "execution_count": null,
      "outputs": [
        {
          "output_type": "stream",
          "text": [
            "10\n"
          ],
          "name": "stdout"
        }
      ]
    },
    {
      "cell_type": "code",
      "metadata": {
        "colab": {
          "base_uri": "https://localhost:8080/"
        },
        "id": "5rXBdj7n7NiM",
        "outputId": "d774e760-6300-4c86-c754-3989f8fb7b8d"
      },
      "source": [
        "# Multiline statements\n",
        "total = 1 + \\\n",
        "        2 + \\\n",
        "        3\n",
        "print(total)"
      ],
      "execution_count": null,
      "outputs": [
        {
          "output_type": "stream",
          "text": [
            "6\n"
          ],
          "name": "stdout"
        }
      ]
    },
    {
      "cell_type": "code",
      "metadata": {
        "colab": {
          "base_uri": "https://localhost:8080/"
        },
        "id": "Qbckm4p57Qzx",
        "outputId": "e2cd826a-787b-44f8-deff-ef407b205c2b"
      },
      "source": [
        "# Quotations\n",
        "var = 'Nishita'\n",
        "print(var)\n",
        "var = \"Bhagat\"\n",
        "print(var)\n",
        "var = \"\"\"This is a\n",
        "big paragraph\"\"\"\n",
        "print(var)"
      ],
      "execution_count": null,
      "outputs": [
        {
          "output_type": "stream",
          "text": [
            "Nishita\n",
            "Bhagat\n",
            "This is a\n",
            "big paragraph\n"
          ],
          "name": "stdout"
        }
      ]
    },
    {
      "cell_type": "code",
      "metadata": {
        "colab": {
          "base_uri": "https://localhost:8080/"
        },
        "id": "xgoSlXNQ7hik",
        "outputId": "76f84c30-5a48-400b-b196-e2d96d753769"
      },
      "source": [
        "# Taing input from user\n",
        "# a = input()\n",
        "a = input(\"Enter your name: \")"
      ],
      "execution_count": null,
      "outputs": [
        {
          "output_type": "stream",
          "text": [
            "Enter your name: Nishita\n"
          ],
          "name": "stdout"
        }
      ]
    },
    {
      "cell_type": "code",
      "metadata": {
        "colab": {
          "base_uri": "https://localhost:8080/"
        },
        "id": "mONV2KjA8Ty_",
        "outputId": "a1a5f750-8e8b-4907-d31b-22169a3e4ad4"
      },
      "source": [
        "print(a)"
      ],
      "execution_count": null,
      "outputs": [
        {
          "output_type": "stream",
          "text": [
            "Nishita\n"
          ],
          "name": "stdout"
        }
      ]
    },
    {
      "cell_type": "code",
      "metadata": {
        "colab": {
          "base_uri": "https://localhost:8080/"
        },
        "id": "PfRRxsah8Xeh",
        "outputId": "58ab761b-950c-423c-f9c2-b69dceea5262"
      },
      "source": [
        "# Multiple statements in a single line\n",
        "a = 1; b = 2; c = 3; print(a,b,c) "
      ],
      "execution_count": null,
      "outputs": [
        {
          "output_type": "stream",
          "text": [
            "1 2 3\n"
          ],
          "name": "stdout"
        }
      ]
    },
    {
      "cell_type": "code",
      "metadata": {
        "id": "4pUzSNDI8fyw"
      },
      "source": [
        "# How to swap two integers without the third varible\n",
        "a,b = b,a"
      ],
      "execution_count": null,
      "outputs": []
    },
    {
      "cell_type": "code",
      "metadata": {
        "colab": {
          "base_uri": "https://localhost:8080/"
        },
        "id": "Ad35_Ngz8j6U",
        "outputId": "6a382362-09e2-4021-b1e4-4bc507ef06c7"
      },
      "source": [
        "print(a,b)"
      ],
      "execution_count": null,
      "outputs": [
        {
          "output_type": "stream",
          "text": [
            "2 1\n"
          ],
          "name": "stdout"
        }
      ]
    },
    {
      "cell_type": "code",
      "metadata": {
        "id": "c0iQS7oB8tcS"
      },
      "source": [
        ""
      ],
      "execution_count": null,
      "outputs": []
    }
  ]
}