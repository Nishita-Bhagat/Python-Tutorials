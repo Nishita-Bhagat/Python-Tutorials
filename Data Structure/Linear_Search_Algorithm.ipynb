{
  "nbformat": 4,
  "nbformat_minor": 0,
  "metadata": {
    "colab": {
      "name": "Linear Search Algorithm.ipynb",
      "provenance": [],
      "collapsed_sections": []
    },
    "kernelspec": {
      "name": "python3",
      "display_name": "Python 3"
    },
    "language_info": {
      "name": "python"
    }
  },
  "cells": [
    {
      "cell_type": "markdown",
      "metadata": {
        "id": "N93NybKoDUcs"
      },
      "source": [
        "***Linear search is the simplest searching algorithm that searches for an element in a list in sequential order. We start at one end and check every element until the desired element is not found. For searching operations in smaller arrays (<100 items).***"
      ]
    },
    {
      "cell_type": "markdown",
      "metadata": {
        "id": "DSaOqYFPFg94"
      },
      "source": [
        "***Time Complexity: O(n).***"
      ]
    },
    {
      "cell_type": "markdown",
      "metadata": {
        "id": "28S4Z97TFl6a"
      },
      "source": [
        "***Space Complexity: O(1)***"
      ]
    },
    {
      "cell_type": "code",
      "metadata": {
        "colab": {
          "base_uri": "https://localhost:8080/"
        },
        "id": "AgedfqzMCvkr",
        "outputId": "502a60f7-9e75-4b38-a0d9-1a47dfc8e078"
      },
      "source": [
        "def linearSearch(num, key):\n",
        "  for i in range(len(num)):\n",
        "    if key == num[i]:\n",
        "      return True\n",
        "  return False\n",
        "      \n",
        "num = [4,7,3,9,0,3,2,1,6,7,8,9]\n",
        "key = 3\n",
        "\n",
        "if linearSearch(num, key):\n",
        "  print(key, \"is found in the list\")\n",
        "else:\n",
        "  print(key, \"not found\")"
      ],
      "execution_count": 5,
      "outputs": [
        {
          "output_type": "stream",
          "text": [
            "3 is found in the list\n"
          ],
          "name": "stdout"
        }
      ]
    },
    {
      "cell_type": "markdown",
      "metadata": {
        "id": "LobDfRF8FDvC"
      },
      "source": [
        "***Alternate Way***"
      ]
    },
    {
      "cell_type": "code",
      "metadata": {
        "colab": {
          "base_uri": "https://localhost:8080/"
        },
        "id": "8pKUqKs6EWRn",
        "outputId": "2d1258ac-2aa0-4a87-9e7f-e60c66cbdcb6"
      },
      "source": [
        "def linearSearch(array, n, key):\n",
        "\n",
        "    # Going through array sequencially\n",
        "    for i in range(0, n):\n",
        "        if (array[i] == key):\n",
        "            return i\n",
        "    return -1\n",
        "\n",
        "\n",
        "array = [2, 4, 0, 1, 9]\n",
        "key = 1\n",
        "n = len(array)\n",
        "result = linearSearch(array, n, key)\n",
        "if(result == -1):\n",
        "    print(\"Element not found\")\n",
        "else:\n",
        "    print(\"Element found at index: \", result)"
      ],
      "execution_count": 6,
      "outputs": [
        {
          "output_type": "stream",
          "text": [
            "Element found at index:  3\n"
          ],
          "name": "stdout"
        }
      ]
    },
    {
      "cell_type": "code",
      "metadata": {
        "id": "hSbP1ZN2FZBz"
      },
      "source": [
        ""
      ],
      "execution_count": null,
      "outputs": []
    }
  ]
}