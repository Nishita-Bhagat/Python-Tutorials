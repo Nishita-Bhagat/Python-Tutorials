{
  "nbformat": 4,
  "nbformat_minor": 0,
  "metadata": {
    "colab": {
      "name": "Bubble Sort.ipynb",
      "provenance": [],
      "collapsed_sections": []
    },
    "kernelspec": {
      "name": "python3",
      "display_name": "Python 3"
    },
    "language_info": {
      "name": "python"
    }
  },
  "cells": [
    {
      "cell_type": "markdown",
      "metadata": {
        "id": "82uPo5O40vSC"
      },
      "source": [
        "***Bubble Sort is the simplest sorting algorithm that works by repeatedly swapping the adjacent elements if they are in wrong order.***"
      ]
    },
    {
      "cell_type": "markdown",
      "metadata": {
        "id": "ebUVPqDe7dGh"
      },
      "source": [
        "***The best complexity of a bubble sort can be O(n). O(n) is only possible if the array is sorted. It's useful for smaller sets of elements but is inefficient for larger sets.***"
      ]
    },
    {
      "cell_type": "code",
      "metadata": {
        "colab": {
          "base_uri": "https://localhost:8080/"
        },
        "id": "2S4IFpdYoBqv",
        "outputId": "bd1635e4-50a7-4784-f515-ff8fad4eafc0"
      },
      "source": [
        "def bubbleSort(a):\n",
        "  for i in range(len(a)):\n",
        "    for j in range(len(a)-i-1):\n",
        "      if a[j] > a[j+1]:\n",
        "        a[j],a[j+1] = a[j+1],a[j]\n",
        "  \n",
        "  return a\n",
        "\n",
        "l = [9,8,7,6,5]\n",
        "print(bubbleSort(l))"
      ],
      "execution_count": 1,
      "outputs": [
        {
          "output_type": "stream",
          "text": [
            "[5, 6, 7, 8, 9]\n"
          ],
          "name": "stdout"
        }
      ]
    },
    {
      "cell_type": "markdown",
      "metadata": {
        "id": "PMce5QyU6FOf"
      },
      "source": [
        "***Alternative Way***"
      ]
    },
    {
      "cell_type": "code",
      "metadata": {
        "colab": {
          "base_uri": "https://localhost:8080/"
        },
        "id": "BEuW9FKC4K_h",
        "outputId": "b1307d57-f826-4665-c0d2-4dcecfba8af4"
      },
      "source": [
        "def bubbleSort(arr):\n",
        "    n = len(arr)\n",
        "\n",
        "    for i in range(n-1):           # Traverse through all array elements.\n",
        "                                   # range(n) also work but outer loop will repeat one time more than needed.\n",
        "      for j in range(0, n-i-1):    # traverse the array from 0 to n-i-1\n",
        "        \n",
        "        if arr[j] > arr[j + 1] :                   # Swap if the element found is greater than the next element.\n",
        "                arr[j], arr[j + 1] = arr[j + 1], arr[j]\n",
        "\n",
        "arr = [64, 34, 25, 12, 22, 11, 90]\n",
        "  \n",
        "bubbleSort(arr)\n",
        "  \n",
        "print (\"Sorted array is:\")\n",
        "for i in range(len(arr)):\n",
        "    print (\"% d\" % arr[i])"
      ],
      "execution_count": 2,
      "outputs": [
        {
          "output_type": "stream",
          "text": [
            "Sorted array is:\n",
            " 11\n",
            " 12\n",
            " 22\n",
            " 25\n",
            " 34\n",
            " 64\n",
            " 90\n"
          ],
          "name": "stdout"
        }
      ]
    },
    {
      "cell_type": "code",
      "metadata": {
        "id": "sVYn_lkT6Xcw"
      },
      "source": [
        ""
      ],
      "execution_count": null,
      "outputs": []
    }
  ]
}