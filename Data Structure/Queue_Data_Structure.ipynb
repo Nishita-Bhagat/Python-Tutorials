{
  "nbformat": 4,
  "nbformat_minor": 0,
  "metadata": {
    "colab": {
      "name": "Queue Data Structure.ipynb",
      "provenance": [],
      "collapsed_sections": []
    },
    "kernelspec": {
      "name": "python3",
      "display_name": "Python 3"
    },
    "language_info": {
      "name": "python"
    }
  },
  "cells": [
    {
      "cell_type": "markdown",
      "metadata": {
        "id": "KfQr5GDJSll2"
      },
      "source": [
        "***A queue is a linear type of data structure used to store the data in a sequentially. The concept of queue is based on the FIFO, which means \"First in First Out\". The queue has the two ends front and rear. The next element is inserted from the rear end and removed from the front end.***"
      ]
    },
    {
      "cell_type": "code",
      "metadata": {
        "colab": {
          "base_uri": "https://localhost:8080/"
        },
        "id": "zM3zc4K5QVwa",
        "outputId": "086bd2ee-9854-4844-affd-eccf868190ea"
      },
      "source": [
        "def isEmpty(queue):\n",
        "  if not queue:\n",
        "    return True\n",
        "  else:\n",
        "    return False\n",
        "\n",
        "def enqueue(queue, n):\n",
        "  queue.append(n)\n",
        "  return queue\n",
        "\n",
        "def dequeue(queue):\n",
        "  if isEmpty(queue):\n",
        "    print(\"Queue is empty\")\n",
        "    return False\n",
        "  else:\n",
        "    print(queue.pop(0))\n",
        "    return queue\n",
        "\n",
        "queue = []\n",
        "enqueue(queue, 9)\n",
        "enqueue(queue, 8)\n",
        "enqueue(queue, 7)\n",
        "enqueue(queue, 6)\n",
        "enqueue(queue, 5)\n",
        "enqueue(queue, 4)\n",
        "\n",
        "print(queue)\n",
        "\n",
        "dequeue(queue)\n",
        "dequeue(queue)\n",
        "dequeue(queue)\n",
        "dequeue(queue)\n",
        "dequeue(queue)\n",
        "\n",
        "print(queue)"
      ],
      "execution_count": null,
      "outputs": [
        {
          "output_type": "stream",
          "text": [
            "[9, 8, 7, 6, 5, 4]\n",
            "9\n",
            "8\n",
            "7\n",
            "6\n",
            "5\n",
            "[4]\n"
          ],
          "name": "stdout"
        }
      ]
    },
    {
      "cell_type": "markdown",
      "metadata": {
        "id": "FLrHP1C7R8KJ"
      },
      "source": [
        "***Alternative Way***"
      ]
    },
    {
      "cell_type": "code",
      "metadata": {
        "colab": {
          "base_uri": "https://localhost:8080/"
        },
        "id": "LFIBdjHwROfI",
        "outputId": "97edb5b4-abaa-4e83-af29-da94988bb3c9"
      },
      "source": [
        "queue = []    # Initializing a queue using list\n",
        "\n",
        "queue.append('a')    # Adding elements to the queue\n",
        "queue.append('b')\n",
        "queue.append('c')\n",
        "print(\"Initial queue\")\n",
        "print(queue)\n",
        "\n",
        "print(\"\\nElements dequeued from queue\")       \n",
        "print(queue.pop(0))                          # Removing elements from the queue using index\n",
        "print(queue.pop(0))\n",
        "print(queue.pop(0))\n",
        "\n",
        "print(\"\\nQueue after removing elements\")\n",
        "print(queue)"
      ],
      "execution_count": null,
      "outputs": [
        {
          "output_type": "stream",
          "text": [
            "Initial queue\n",
            "['a', 'b', 'c']\n",
            "\n",
            "Elements dequeued from queue\n",
            "a\n",
            "b\n",
            "c\n",
            "\n",
            "Queue after removing elements\n",
            "[]\n"
          ],
          "name": "stdout"
        }
      ]
    },
    {
      "cell_type": "code",
      "metadata": {
        "id": "zmWzWo5jSaEs"
      },
      "source": [
        ""
      ],
      "execution_count": null,
      "outputs": []
    }
  ]
}