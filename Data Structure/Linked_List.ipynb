{
  "nbformat": 4,
  "nbformat_minor": 0,
  "metadata": {
    "colab": {
      "name": "Linked List.ipynb",
      "provenance": [],
      "collapsed_sections": []
    },
    "kernelspec": {
      "name": "python3",
      "display_name": "Python 3"
    },
    "language_info": {
      "name": "python"
    }
  },
  "cells": [
    {
      "cell_type": "markdown",
      "metadata": {
        "id": "bZTY15uImgV2"
      },
      "source": [
        "***A linked list is a sequence of data elements, which are connected together via links. Linked lists store references as part of their own elements.\n",
        "Each element of a linked list is called a node, and every node has two different fields:***\n",
        "\n",
        "***Data contains the value to be stored in the node.\n",
        "Next contains a reference to the next node on the list.***"
      ]
    },
    {
      "cell_type": "markdown",
      "metadata": {
        "id": "f6O6nS3Tnqcl"
      },
      "source": [
        "***Advantages : the list is dynamic and hence can be resized based on the requirement and ease of insertion/deletion.***"
      ]
    },
    {
      "cell_type": "code",
      "metadata": {
        "id": "Ez7yfhD1TFt0",
        "colab": {
          "base_uri": "https://localhost:8080/"
        },
        "outputId": "f575b831-c61b-41e2-95c9-a0b8d0771296"
      },
      "source": [
        "class Node:\n",
        "  def __init__(self, data = None):\n",
        "    self.data = data\n",
        "    self.next = None\n",
        "\n",
        "class LinkedList:\n",
        "  def __init__(self):\n",
        "    self.head = Node()\n",
        "  \n",
        "  def accept_data(self,data):\n",
        "    new_node = Node(data)\n",
        "    cur = self.head\n",
        "    while cur.next != None :\n",
        "      cur = cur.next\n",
        "    cur.next = new_node\n",
        "\n",
        "  def display(self):\n",
        "    disp = []\n",
        "    cur = self.head\n",
        "    while cur.next != None :\n",
        "      cur = cur.next\n",
        "      disp.append(cur.data)\n",
        "    print(disp)\n",
        "\n",
        "\n",
        "\n",
        "l = LinkedList()\n",
        "l.accept_data(2)\n",
        "l.accept_data(3)\n",
        "l.accept_data(5)\n",
        "l.accept_data(7)\n",
        "l.accept_data(9)\n",
        "\n",
        "\n",
        "l.display()"
      ],
      "execution_count": 11,
      "outputs": [
        {
          "output_type": "stream",
          "text": [
            "[2, 3, 5, 7, 9]\n"
          ],
          "name": "stdout"
        }
      ]
    },
    {
      "cell_type": "code",
      "metadata": {
        "id": "BgIIn05NW03J"
      },
      "source": [
        ""
      ],
      "execution_count": null,
      "outputs": []
    }
  ]
}