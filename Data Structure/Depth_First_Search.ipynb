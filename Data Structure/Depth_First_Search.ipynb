{
  "nbformat": 4,
  "nbformat_minor": 0,
  "metadata": {
    "colab": {
      "name": "Depth First Search.ipynb",
      "provenance": [],
      "collapsed_sections": []
    },
    "kernelspec": {
      "name": "python3",
      "display_name": "Python 3"
    },
    "language_info": {
      "name": "python"
    }
  },
  "cells": [
    {
      "cell_type": "markdown",
      "metadata": {
        "id": "WdDOWsTHZT4e"
      },
      "source": [
        "***Depth First Search (DFS) algorithm traverses a graph in a depthward motion and uses a stack to remember to get the next vertex to start a searc, when a dead end occurs in any iteration.***"
      ]
    },
    {
      "cell_type": "markdown",
      "metadata": {
        "id": "dF0jJ7ufZ5WP"
      },
      "source": [
        "***The time complexity of the DFS algorithm is represented in the form of O(V + E), where V is the number of nodes and E is the number of edges.***"
      ]
    },
    {
      "cell_type": "markdown",
      "metadata": {
        "id": "3y8Dlo-kZ6tx"
      },
      "source": [
        "***The space complexity of the algorithm is O(V)***"
      ]
    },
    {
      "cell_type": "markdown",
      "metadata": {
        "id": "Kmfv6LqKZ_5-"
      },
      "source": [
        "***APPLICATIONS:***\n",
        "\n",
        "*   *For finding the path*\n",
        "*   *To test if the graph is bipartite*\n",
        "*   *For finding the strongly connected components of a graph*\n",
        "*   *For detecting cycles in a graph*\n",
        "\n",
        "\n",
        "\n"
      ]
    },
    {
      "cell_type": "code",
      "metadata": {
        "id": "czcNwZ7aOAZV",
        "colab": {
          "base_uri": "https://localhost:8080/"
        },
        "outputId": "465fff66-fa1a-4ef7-c6ce-27c01c9ef4a6"
      },
      "source": [
        "def dfs(graph, start, visited=None):\n",
        "    if visited is None:\n",
        "        visited = set()\n",
        "    visited.add(start)\n",
        "\n",
        "    print(start)\n",
        "\n",
        "    for next in graph[start] - visited:\n",
        "        dfs(graph, next, visited)\n",
        "    return visited\n",
        "\n",
        "\n",
        "graph = {'0': set(['1', '2']),\n",
        "         '1': set(['0', '3', '4']),\n",
        "         '2': set(['0']),\n",
        "         '3': set(['1']),\n",
        "         '4': set(['2', '3'])}\n",
        "\n",
        "dfs(graph, '0')"
      ],
      "execution_count": 1,
      "outputs": [
        {
          "output_type": "stream",
          "text": [
            "0\n",
            "2\n",
            "1\n",
            "4\n",
            "3\n",
            "3\n"
          ],
          "name": "stdout"
        },
        {
          "output_type": "execute_result",
          "data": {
            "text/plain": [
              "{'0', '1', '2', '3', '4'}"
            ]
          },
          "metadata": {
            "tags": []
          },
          "execution_count": 1
        }
      ]
    },
    {
      "cell_type": "markdown",
      "metadata": {
        "id": "1FYr16KFdO2V"
      },
      "source": [
        "***For understanding purpose:***\n",
        "\n",
        "*   *Start at the root node and push it onto the stack.*\n",
        "*   *Check for any adjacent nodes of the tree and select one node.*\n",
        "*   *Traverse the entire branch of the selected node and push all the nodes into the stack.*\n",
        "*   *Upon reaching the end of a branch (no more adjacent nodes) ie nth leaf node, move back by a single step and look for adjacent nodes of the n-1th node.*\n",
        "*   *If there are adjacent nodes for the n-1th node, traverse those branches and push nodes onto the stack.*\n",
        "\n",
        "\n",
        "\n"
      ]
    },
    {
      "cell_type": "code",
      "metadata": {
        "id": "vQxrt4hzbOGP"
      },
      "source": [
        ""
      ],
      "execution_count": null,
      "outputs": []
    }
  ]
}