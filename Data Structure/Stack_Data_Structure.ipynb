{
  "nbformat": 4,
  "nbformat_minor": 0,
  "metadata": {
    "colab": {
      "name": "Stack Data Structure.ipynb",
      "provenance": [],
      "collapsed_sections": []
    },
    "kernelspec": {
      "name": "python3",
      "display_name": "Python 3"
    },
    "language_info": {
      "name": "python"
    }
  },
  "cells": [
    {
      "cell_type": "markdown",
      "metadata": {
        "id": "8vw41UsfPMD4"
      },
      "source": [
        "***A stack is a linear data structure that stores items in a Last-In/First-Out (LIFO) or First-In/Last-Out (FILO) manner. In stack, a new element is added at one end and an element is removed from that end only. The insert and delete operations are often called push and pop.***"
      ]
    },
    {
      "cell_type": "code",
      "metadata": {
        "id": "vBgX8QVbvbsr"
      },
      "source": [
        "def push(num, n):\n",
        "  num.append(n)\n",
        "  return num\n",
        "\n",
        "def pop(num):\n",
        "  if isEmpty(num):\n",
        "    print(\"Stack is empty\")\n",
        "    return False\n",
        "  else:\n",
        "    num.pop()\n",
        "    return num\n",
        "\n",
        "def isEmpty(num):\n",
        "  if not num:\n",
        "    return True\n",
        "  else:\n",
        "    return False"
      ],
      "execution_count": null,
      "outputs": []
    },
    {
      "cell_type": "code",
      "metadata": {
        "colab": {
          "base_uri": "https://localhost:8080/"
        },
        "id": "0qEiPRu0O499",
        "outputId": "af63f296-0e02-443a-88c1-e0b8a3c5d8b6"
      },
      "source": [
        "num = []\n",
        "push(num,2)\n",
        "push(num,3)\n",
        "push(num,4)\n",
        "push(num,5)\n",
        "push(num,6)\n",
        "push(num,7)\n",
        "pop(num)\n",
        "pop(num)\n",
        "pop(num)\n",
        "pop(num)\n",
        "print(num)"
      ],
      "execution_count": null,
      "outputs": [
        {
          "output_type": "stream",
          "text": [
            "[2, 3]\n"
          ],
          "name": "stdout"
        }
      ]
    },
    {
      "cell_type": "markdown",
      "metadata": {
        "id": "P0k90pWCP8xj"
      },
      "source": [
        "***Alternate Way***"
      ]
    },
    {
      "cell_type": "code",
      "metadata": {
        "colab": {
          "base_uri": "https://localhost:8080/"
        },
        "id": "xORatClJPFj7",
        "outputId": "4f877f91-efd1-4f0d-94bf-b99d4339f010"
      },
      "source": [
        "stack = []\n",
        "stack.append('a')\n",
        "stack.append('b')\n",
        "stack.append('c')\n",
        " \n",
        "print('Initial stack')\n",
        "print(stack)\n",
        "\n",
        "print('\\nElements poped from stack:')\n",
        "print(stack.pop())\n",
        "print(stack.pop())\n",
        "print(stack.pop())\n",
        " \n",
        "print('\\nStack after elements are poped:')\n",
        "print(stack)"
      ],
      "execution_count": null,
      "outputs": [
        {
          "output_type": "stream",
          "text": [
            "Initial stack\n",
            "['a', 'b', 'c']\n",
            "\n",
            "Elements poped from stack:\n",
            "c\n",
            "b\n",
            "a\n",
            "\n",
            "Stack after elements are poped:\n",
            "[]\n"
          ],
          "name": "stdout"
        }
      ]
    },
    {
      "cell_type": "code",
      "metadata": {
        "id": "kPKQx92zP4Uf"
      },
      "source": [
        ""
      ],
      "execution_count": null,
      "outputs": []
    }
  ]
}