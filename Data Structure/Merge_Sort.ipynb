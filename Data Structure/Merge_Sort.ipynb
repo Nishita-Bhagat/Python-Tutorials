{
  "nbformat": 4,
  "nbformat_minor": 0,
  "metadata": {
    "colab": {
      "name": "Merge Sort.ipynb",
      "provenance": [],
      "collapsed_sections": []
    },
    "kernelspec": {
      "name": "python3",
      "display_name": "Python 3"
    },
    "language_info": {
      "name": "python"
    }
  },
  "cells": [
    {
      "cell_type": "markdown",
      "metadata": {
        "id": "10-VDAiz0LRk"
      },
      "source": [
        "***Merge Sort is one of the most popular sorting algorithms that is based on the principle of Divide and Conquer Algorithm. Here, a problem is divided into multiple sub-problems. Each sub-problem is solved individually. Finally, sub-problems are combined to form the final solution.***"
      ]
    },
    {
      "cell_type": "markdown",
      "metadata": {
        "id": "eWb3oNiJ5jG7"
      },
      "source": [
        "***The algorithm first moves from top to bottom, dividing the list into smaller and smaller parts until only the separate elements remain.From there, it moves back up, ensuring that the merging lists are sorted.***"
      ]
    },
    {
      "cell_type": "markdown",
      "metadata": {
        "id": "GOWLW8Cc0t6h"
      },
      "source": [
        "***Time Complexity : O(n*log n)***\n"
      ]
    },
    {
      "cell_type": "markdown",
      "metadata": {
        "id": "Of0cG96R0zCZ"
      },
      "source": [
        "***Space Complexity : O(n)***"
      ]
    },
    {
      "cell_type": "markdown",
      "metadata": {
        "id": "GnpmOh9T080I"
      },
      "source": [
        "***APPLICATIONS***\n",
        "\n",
        "*   Inversion count problem\n",
        "*   External sorting\n",
        "*   E-commerce applications\n",
        "\n",
        "\n",
        "\n"
      ]
    },
    {
      "cell_type": "code",
      "metadata": {
        "colab": {
          "base_uri": "https://localhost:8080/"
        },
        "id": "n94PJkCHqhbs",
        "outputId": "58eccf26-0f9a-406b-85fb-56d605bd94c6"
      },
      "source": [
        "def merge_sort(array):\n",
        "  if len(array) < 2:\n",
        "    return array\n",
        "  \n",
        "  mid = len(array) // 2\n",
        "  left = merge_sort(array[:mid])\n",
        "  right = merge_sort(array[mid:])\n",
        "\n",
        "  return merge(left, right)\n",
        "\n",
        "\n",
        "def merge(left, right):\n",
        "  result = []\n",
        "  i, j = 0, 0\n",
        "  while i < len(left) or j < len(right):\n",
        "    if left[i] <= right[j]:\n",
        "      result.append(left[i])\n",
        "      i += 1\n",
        "    else:\n",
        "      result.append(right[j])\n",
        "      j += 1\n",
        "    if i == len(left) or j == len(right):\n",
        "      result.extend(left[i:] or right[j:])\n",
        "      break\n",
        "  return result\n",
        "\n",
        "a = [3, 6, 2, 4, 5]\n",
        "print(\"Given array is\", end=\"\\n\")\n",
        "print(a)\n",
        "print(\"Sorted array is: \", end=\"\\n\")\n",
        "print(merge_sort(a))\n",
        "\n",
        "\n"
      ],
      "execution_count": 19,
      "outputs": [
        {
          "output_type": "stream",
          "text": [
            "Given array is\n",
            "[3, 6, 2, 4, 5]\n",
            "Sorted array is: \n",
            "[2, 3, 4, 5, 6]\n"
          ],
          "name": "stdout"
        }
      ]
    },
    {
      "cell_type": "code",
      "metadata": {
        "id": "Ep_9jfem0yUj"
      },
      "source": [
        ""
      ],
      "execution_count": null,
      "outputs": []
    }
  ]
}