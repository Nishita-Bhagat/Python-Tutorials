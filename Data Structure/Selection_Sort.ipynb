{
  "nbformat": 4,
  "nbformat_minor": 0,
  "metadata": {
    "colab": {
      "name": "Selection Sort.ipynb",
      "provenance": [],
      "collapsed_sections": []
    },
    "kernelspec": {
      "name": "python3",
      "display_name": "Python 3"
    },
    "language_info": {
      "name": "python"
    }
  },
  "cells": [
    {
      "cell_type": "markdown",
      "metadata": {
        "id": "eqeSI-GyVhGV"
      },
      "source": [
        "***Selection sort is a sorting algorithm that selects the smallest element from an unsorted list in each iteration and places that element at the beginning of the unsorted list.***"
      ]
    },
    {
      "cell_type": "markdown",
      "metadata": {
        "id": "UqXb8CaPgdsQ"
      },
      "source": [
        "***The time complexity of the selection sort is the same in all cases. At every step, you have to find the minimum element and put it in the right place. The minimum element is not known until the end of the array is not reached. O(n^2)***"
      ]
    },
    {
      "cell_type": "markdown",
      "metadata": {
        "id": "TgkYfL-TgqDr"
      },
      "source": [
        "***APPLICATIONS:  The selection sort is used when***\n",
        "\n",
        "\n",
        "*   a small list is to be sorted.\n",
        "*   cost of swapping does not matter O(1).\n",
        "*   checking of all the elements is compulsory.\n",
        "*   cost of writing to a memory matters like in flash memory (number of    writes/swaps is O(n) as compared to O(n2) of bubble sort)\n",
        "\n",
        "\n",
        "\n"
      ]
    },
    {
      "cell_type": "code",
      "metadata": {
        "colab": {
          "base_uri": "https://localhost:8080/"
        },
        "id": "Bswrd8s57xeS",
        "outputId": "d7cd07a1-1da0-4c2d-a7ff-b4562c49adf6"
      },
      "source": [
        "def selectionSort(s):\n",
        "  for i in range(len(s)):\n",
        "    cur_index = i\n",
        "    for j in range(i, len(s)):\n",
        "      if s[cur_index] > s[j]:\n",
        "        cur_index = j\n",
        "    s[i], s[cur_index] = s[cur_index], s[i]\n",
        "  return s\n",
        "\n",
        "s = [98, 45, 22, 99, 45]\n",
        "print (selectionSort(s))\n",
        "\n"
      ],
      "execution_count": 1,
      "outputs": [
        {
          "output_type": "stream",
          "text": [
            "[22, 45, 45, 98, 99]\n"
          ],
          "name": "stdout"
        }
      ]
    },
    {
      "cell_type": "markdown",
      "metadata": {
        "id": "ew-lcQ0EhO9w"
      },
      "source": [
        "***Alternate Way***"
      ]
    },
    {
      "cell_type": "code",
      "metadata": {
        "colab": {
          "base_uri": "https://localhost:8080/"
        },
        "id": "u2cKqHiehOAn",
        "outputId": "e68cedcc-e42e-4f7f-e9ea-40a66f6a1a62"
      },
      "source": [
        "def selectionSort(array, size):\n",
        "   \n",
        "    for step in range(size):\n",
        "        min_index = step\n",
        "\n",
        "        for i in range(step + 1, size):\n",
        "\n",
        "          if array[i] < array[min_index]:           # to sort in descending order, change > to < in this line\n",
        "                min_index = i\n",
        "        (array[step], array[min_index]) = (array[min_index], array[step])\n",
        "\n",
        "data = [-2, 45, 0, 11, -9]\n",
        "size = len(data)\n",
        "selectionSort(data, size)\n",
        "print('Sorted Array in Ascending Order:')\n",
        "print(data)\n",
        "      "
      ],
      "execution_count": 2,
      "outputs": [
        {
          "output_type": "stream",
          "text": [
            "Sorted Array in Ascending Order:\n",
            "[-9, -2, 0, 11, 45]\n"
          ],
          "name": "stdout"
        }
      ]
    },
    {
      "cell_type": "code",
      "metadata": {
        "id": "RtwXsSL-fFXh"
      },
      "source": [
        ""
      ],
      "execution_count": null,
      "outputs": []
    }
  ]
}