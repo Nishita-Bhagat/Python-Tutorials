{
  "nbformat": 4,
  "nbformat_minor": 0,
  "metadata": {
    "colab": {
      "name": "Graph.ipynb",
      "provenance": [],
      "collapsed_sections": []
    },
    "kernelspec": {
      "name": "python3",
      "display_name": "Python 3"
    },
    "language_info": {
      "name": "python"
    }
  },
  "cells": [
    {
      "cell_type": "markdown",
      "metadata": {
        "id": "w2CeRiXyPFWv"
      },
      "source": [
        "***A Graph is a non-linear data structure consisting of nodes and edges. The nodes are sometimes also referred to as vertices and the edges are lines or arcs that connect any two nodes in the graph.***\n",
        "\n",
        "\n"
      ]
    },
    {
      "cell_type": "markdown",
      "metadata": {
        "id": "9iajn9DjPy81"
      },
      "source": [
        "***APPLICTIONS:***\n",
        "\n",
        "\n",
        "1.   *To visualize organized data.*\n",
        "2.   *Directed Graphs are used in Google’s Page Ranking Algorithm.*\n",
        "3.   *Social Networks use graphs to represent different users as vertices and edges to represent the connections between them.*\n",
        "4.   *In a mapping application, graphs are used to represent places and the path (distance) between them.*\n",
        "\n",
        "\n",
        "\n"
      ]
    },
    {
      "cell_type": "code",
      "metadata": {
        "colab": {
          "base_uri": "https://localhost:8080/"
        },
        "id": "hEystb239fk9",
        "outputId": "0b9e59fe-28fc-4304-d6cf-eeef005c5501"
      },
      "source": [
        "class graph:\n",
        "  def __init__(self):\n",
        "    self.list = {}\n",
        "  \n",
        "  def createEdge(self, start, end):\n",
        "    if start in self.list.keys():\n",
        "      self.list[start].append(end)\n",
        "    else:\n",
        "      self.list[start] = [end]\n",
        "\n",
        "\n",
        "  def display(self):\n",
        "    for i in self.list:\n",
        "      print(i, '->', '->'.join([str(j) for j in self.list[i]]))\n",
        "\n",
        "g = graph()\n",
        "g.createEdge(0, 1)\n",
        "g.createEdge(0, 4)\n",
        "g.createEdge(2, 1)\n",
        "g.createEdge(2, 3)\n",
        "g.createEdge(1, 3)\n",
        "g.createEdge(4, 1)\n",
        "g.createEdge(0, 2)\n",
        "\n",
        "g.display()\n"
      ],
      "execution_count": 5,
      "outputs": [
        {
          "output_type": "stream",
          "text": [
            "0 -> 1->4->2\n",
            "2 -> 1->3\n",
            "1 -> 3\n",
            "4 -> 1\n"
          ],
          "name": "stdout"
        }
      ]
    },
    {
      "cell_type": "code",
      "metadata": {
        "id": "7ykIoISMRt9n"
      },
      "source": [
        ""
      ],
      "execution_count": null,
      "outputs": []
    }
  ]
}