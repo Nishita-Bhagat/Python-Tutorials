{
  "nbformat": 4,
  "nbformat_minor": 0,
  "metadata": {
    "colab": {
      "name": "Breadth First Search (BFS).ipynb",
      "provenance": [],
      "collapsed_sections": []
    },
    "kernelspec": {
      "name": "python3",
      "display_name": "Python 3"
    },
    "language_info": {
      "name": "python"
    }
  },
  "cells": [
    {
      "cell_type": "markdown",
      "metadata": {
        "id": "KH2aH6T6V390"
      },
      "source": [
        "***BFS is a traversing algorithm where you should start traversing from a selected node (source or starting node) and traverse the graph layerwise thus exploring the neighbour nodes (nodes which are directly connected to source node).***\n"
      ]
    },
    {
      "cell_type": "markdown",
      "metadata": {
        "id": "3VW-lbc8Wb-j"
      },
      "source": [
        "***The purpose of the algorithm is to mark each vertex as visited while avoiding cycles.***"
      ]
    },
    {
      "cell_type": "markdown",
      "metadata": {
        "id": "aSdrPcal-GAv"
      },
      "source": [
        "***The time complexity of the BFS algorithm is represented in the form of O(V + E), where V is the number of nodes and E is the number of edges.***"
      ]
    },
    {
      "cell_type": "markdown",
      "metadata": {
        "id": "Nahq-zOf-H-Z"
      },
      "source": [
        "***The space complexity of the algorithm is O(V)***"
      ]
    },
    {
      "cell_type": "markdown",
      "metadata": {
        "id": "hvBR9CxP-ZEx"
      },
      "source": [
        "***APPLICATIONS:***\n",
        "\n",
        "\n",
        "*   To build index by search index\n",
        "*   For GPS navigation\n",
        "*   Path finding algorithms\n",
        "*   In Ford-Fulkerson algorithm to find maximum flow in a network\n",
        "*   Cycle detection in an undirected graph\n",
        "*   In minimum spanning tree\n",
        "\n",
        "\n",
        "\n",
        "\n",
        "\n"
      ]
    },
    {
      "cell_type": "code",
      "metadata": {
        "colab": {
          "base_uri": "https://localhost:8080/"
        },
        "id": "abJJM2NbEfJT",
        "outputId": "8fa4f495-5fe9-4084-e860-93becf91caa3"
      },
      "source": [
        "def bfs(visit_complete, graph, current_node):\n",
        "    visit_complete.append(current_node)\n",
        "    queue = []\n",
        "    queue.append(current_node)\n",
        " \n",
        "    while queue:\n",
        "        s = queue.pop(0)\n",
        "        print(s)\n",
        " \n",
        "        for neighbour in graph[s]:\n",
        "            if neighbour not in visit_complete:\n",
        "                visit_complete.append(neighbour)\n",
        "                queue.append(neighbour)\n",
        "\n",
        "\n",
        "if __name__ == '__main__':\n",
        "    graph = {0: [1, 2], 1: [2], 2: [3], 3: [1, 2]}\n",
        "    print(\"Following is Breadth First Traversal: \")\n",
        "    bfs([], graph, 1)"
      ],
      "execution_count": 10,
      "outputs": [
        {
          "output_type": "stream",
          "text": [
            "Following is Breadth First Traversal: \n",
            "1\n",
            "2\n",
            "3\n"
          ],
          "name": "stdout"
        }
      ]
    },
    {
      "cell_type": "markdown",
      "metadata": {
        "id": "GaAu2dXvMyA9"
      },
      "source": [
        "***The algorithm works as follows:***\n",
        "\n",
        "*   *Start by putting any one of the graph's vertices at the back of a queue.*\n",
        "*   *Take the front item of the queue and add it to the visited list.*\n",
        "*   *Create a list of that vertex's adjacent nodes. Add the ones which aren't in the visited list to the back of the queue.*\n",
        "*   *Keep repeating steps 2 and 3 until the queue is empty.*\n",
        "\n",
        "\n",
        "\n",
        "\n",
        "\n",
        "\n",
        "\n"
      ]
    },
    {
      "cell_type": "code",
      "metadata": {
        "id": "NdEONfTeI40k"
      },
      "source": [
        ""
      ],
      "execution_count": null,
      "outputs": []
    }
  ]
}