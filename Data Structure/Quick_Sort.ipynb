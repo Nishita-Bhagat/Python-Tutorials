{
  "nbformat": 4,
  "nbformat_minor": 0,
  "metadata": {
    "colab": {
      "name": "Quick Sort.ipynb",
      "provenance": [],
      "collapsed_sections": []
    },
    "kernelspec": {
      "name": "python3",
      "display_name": "Python 3"
    },
    "language_info": {
      "name": "python"
    }
  },
  "cells": [
    {
      "cell_type": "markdown",
      "metadata": {
        "id": "Sh_gdHQIrSX9"
      },
      "source": [
        "***Quicksort is a sorting algorithm based on the divide and conquer approach where,***\n",
        "1. An array is divided into subarrays by selecting a pivot element (element selected from the array).\n",
        "\n",
        "While dividing the array, the pivot element should be positioned in such a way that elements less than pivot are kept on the left side and elements greater than pivot are on the right side of the pivot.\n",
        "\n",
        "2. The left and right subarrays are also divided using the same approach. This process continues until each subarray contains a single element.\n",
        "\n",
        "3. At this point, elements are already sorted. Finally, elements are combined to form a sorted array."
      ]
    },
    {
      "cell_type": "markdown",
      "metadata": {
        "id": "O1mJYDOLr4vs"
      },
      "source": [
        "***APPLICATIONS:***\n",
        "\n",
        " **1. the programming language is good for recursion.**\n",
        " **2. time complexity matters. Worst case O(n2). Best and Average O(n*log n).**\n",
        " **3. space complexity matters O(log n).**"
      ]
    },
    {
      "cell_type": "code",
      "metadata": {
        "colab": {
          "base_uri": "https://localhost:8080/"
        },
        "id": "zRvLzDR7h7DS",
        "outputId": "5aa26332-7676-467a-c9ab-a98afbe3737f"
      },
      "source": [
        "def quickSort(a):\n",
        "  if len(a) <= 1:\n",
        "    return a\n",
        "  else:\n",
        "    pivot = a.pop()\n",
        "  greater = []\n",
        "  lower = []\n",
        "\n",
        "  for i in a:\n",
        "    if i > pivot:\n",
        "      greater.append(i)\n",
        "    else:\n",
        "      lower.append(i)\n",
        "  return quickSort(lower) + [pivot] + quickSort(greater)\n",
        "\n",
        "l = [5, 7, 3, 99, 56, 78, 34, 87]\n",
        "print(quickSort(l))"
      ],
      "execution_count": null,
      "outputs": [
        {
          "output_type": "stream",
          "text": [
            "[3, 5, 7, 34, 56, 78, 87, 99]\n"
          ],
          "name": "stdout"
        }
      ]
    },
    {
      "cell_type": "code",
      "metadata": {
        "id": "KQEq8IjStkNO"
      },
      "source": [
        ""
      ],
      "execution_count": null,
      "outputs": []
    }
  ]
}