{
  "nbformat": 4,
  "nbformat_minor": 0,
  "metadata": {
    "colab": {
      "name": "Loops.ipynb",
      "provenance": [],
      "collapsed_sections": []
    },
    "kernelspec": {
      "name": "python3",
      "display_name": "Python 3"
    },
    "language_info": {
      "name": "python"
    }
  },
  "cells": [
    {
      "cell_type": "markdown",
      "metadata": {
        "id": "tSrUITjGtnlU"
      },
      "source": [
        "***While loop***\n",
        "\n"
      ]
    },
    {
      "cell_type": "code",
      "metadata": {
        "colab": {
          "base_uri": "https://localhost:8080/"
        },
        "id": "okk9kUIhp1Pf",
        "outputId": "e904810c-869a-4a21-fe54-7fafa8c1e1e1"
      },
      "source": [
        "# Print from 1 to 10\n",
        "num = 1\n",
        "while num <= 10:\n",
        "    print(num)\n",
        "    num += 1"
      ],
      "execution_count": null,
      "outputs": [
        {
          "output_type": "stream",
          "text": [
            "1\n",
            "2\n",
            "3\n",
            "4\n",
            "5\n",
            "6\n",
            "7\n",
            "8\n",
            "9\n",
            "10\n"
          ],
          "name": "stdout"
        }
      ]
    },
    {
      "cell_type": "markdown",
      "metadata": {
        "id": "fwrBSJsbzn7n"
      },
      "source": [
        "***For loop***"
      ]
    },
    {
      "cell_type": "code",
      "metadata": {
        "colab": {
          "base_uri": "https://localhost:8080/"
        },
        "id": "f-7oikAJtvKd",
        "outputId": "c0f13fcf-7c0e-4c4a-9cee-0387fcda53cf"
      },
      "source": [
        "for num in range(10):      # 10 is excluded\n",
        "    print(num)"
      ],
      "execution_count": null,
      "outputs": [
        {
          "output_type": "stream",
          "text": [
            "0\n",
            "1\n",
            "2\n",
            "3\n",
            "4\n",
            "5\n",
            "6\n",
            "7\n",
            "8\n",
            "9\n"
          ],
          "name": "stdout"
        }
      ]
    },
    {
      "cell_type": "code",
      "metadata": {
        "colab": {
          "base_uri": "https://localhost:8080/"
        },
        "id": "t3U8W8pKzuVH",
        "outputId": "023acc93-afed-41cb-feaf-04418a047055"
      },
      "source": [
        "for num in range(1,11,1):    # 11 is excluded and 1 is the step difference\n",
        "    print(num)"
      ],
      "execution_count": null,
      "outputs": [
        {
          "output_type": "stream",
          "text": [
            "1\n",
            "2\n",
            "3\n",
            "4\n",
            "5\n",
            "6\n",
            "7\n",
            "8\n",
            "9\n",
            "10\n"
          ],
          "name": "stdout"
        }
      ]
    },
    {
      "cell_type": "code",
      "metadata": {
        "colab": {
          "base_uri": "https://localhost:8080/"
        },
        "id": "I-4qGtoo0J_s",
        "outputId": "663c79a0-178f-4802-8a76-86c8b7cfa1a0"
      },
      "source": [
        "# Print odd numbers\n",
        "for num in range(1,11,2):\n",
        "    print(num)"
      ],
      "execution_count": null,
      "outputs": [
        {
          "output_type": "stream",
          "text": [
            "1\n",
            "3\n",
            "5\n",
            "7\n",
            "9\n"
          ],
          "name": "stdout"
        }
      ]
    },
    {
      "cell_type": "markdown",
      "metadata": {
        "id": "wWumNAlY0Ry6"
      },
      "source": [
        "***Nested Loop***"
      ]
    },
    {
      "cell_type": "code",
      "metadata": {
        "colab": {
          "base_uri": "https://localhost:8080/"
        },
        "id": "H_6InuOf0OO-",
        "outputId": "e48dc95f-ae9f-4a31-e79b-78eb598b659a"
      },
      "source": [
        "mat = [[1,2,3],[4,5,6],[7,8,9]]\n",
        "for i in range(3):\n",
        "    for j in range(3):\n",
        "        print(mat[i][j])"
      ],
      "execution_count": null,
      "outputs": [
        {
          "output_type": "stream",
          "text": [
            "1\n",
            "2\n",
            "3\n",
            "4\n",
            "5\n",
            "6\n",
            "7\n",
            "8\n",
            "9\n"
          ],
          "name": "stdout"
        }
      ]
    },
    {
      "cell_type": "code",
      "metadata": {
        "colab": {
          "base_uri": "https://localhost:8080/"
        },
        "id": "cwvJxfTz0Ujz",
        "outputId": "48eb3491-715e-4c93-c866-19c5e1b69cd9"
      },
      "source": [
        "for i in range(3):\n",
        "    for j in range(3):\n",
        "        print(mat[i][j], end = \" \")\n",
        "    print()"
      ],
      "execution_count": null,
      "outputs": [
        {
          "output_type": "stream",
          "text": [
            "1 2 3 \n",
            "4 5 6 \n",
            "7 8 9 \n"
          ],
          "name": "stdout"
        }
      ]
    },
    {
      "cell_type": "markdown",
      "metadata": {
        "id": "NfxVw2-s0bbe"
      },
      "source": [
        "***Break***"
      ]
    },
    {
      "cell_type": "code",
      "metadata": {
        "colab": {
          "base_uri": "https://localhost:8080/"
        },
        "id": "c0AOj62L0YHw",
        "outputId": "c0132036-726a-4f07-d053-78f8beb19805"
      },
      "source": [
        "for i in range(10):\n",
        "    print(i)\n",
        "    if i == 5:\n",
        "        break"
      ],
      "execution_count": null,
      "outputs": [
        {
          "output_type": "stream",
          "text": [
            "0\n",
            "1\n",
            "2\n",
            "3\n",
            "4\n",
            "5\n"
          ],
          "name": "stdout"
        }
      ]
    },
    {
      "cell_type": "markdown",
      "metadata": {
        "id": "nncbEhJ70h1X"
      },
      "source": [
        "***Continue***"
      ]
    },
    {
      "cell_type": "code",
      "metadata": {
        "colab": {
          "base_uri": "https://localhost:8080/"
        },
        "id": "Yrd2x3Wa0e-j",
        "outputId": "4f2a746a-d72c-4450-ddbc-cd33285c96fd"
      },
      "source": [
        "for i in range(10):\n",
        "    if i%2==1:\n",
        "        continue\n",
        "    print(i)"
      ],
      "execution_count": null,
      "outputs": [
        {
          "output_type": "stream",
          "text": [
            "0\n",
            "2\n",
            "4\n",
            "6\n",
            "8\n"
          ],
          "name": "stdout"
        }
      ]
    },
    {
      "cell_type": "code",
      "metadata": {
        "id": "fQLyqqSV0j7V"
      },
      "source": [
        "# Pass : The pass statement is used as a placeholder for future code. When the pass statement is executed, nothing happens.\n",
        "for i in range(10):   \n",
        "    pass"
      ],
      "execution_count": null,
      "outputs": []
    },
    {
      "cell_type": "code",
      "metadata": {
        "id": "PtWBm9HI3Es4"
      },
      "source": [
        "def fun():\n",
        "    pass"
      ],
      "execution_count": null,
      "outputs": []
    },
    {
      "cell_type": "code",
      "metadata": {
        "id": "rfdJcM4_3Gf9"
      },
      "source": [
        ""
      ],
      "execution_count": null,
      "outputs": []
    }
  ]
}