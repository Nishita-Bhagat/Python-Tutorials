{
  "nbformat": 4,
  "nbformat_minor": 0,
  "metadata": {
    "colab": {
      "name": "Class.ipynb",
      "provenance": [],
      "collapsed_sections": []
    },
    "kernelspec": {
      "name": "python3",
      "display_name": "Python 3"
    },
    "language_info": {
      "name": "python"
    }
  },
  "cells": [
    {
      "cell_type": "code",
      "metadata": {
        "id": "qaucDW1fMdlb"
      },
      "source": [
        "# class\n",
        "class Student:\n",
        "    count = 1"
      ],
      "execution_count": 1,
      "outputs": []
    },
    {
      "cell_type": "code",
      "metadata": {
        "id": "X4DOWyWCT_mb"
      },
      "source": [
        "s = Student()"
      ],
      "execution_count": 2,
      "outputs": []
    },
    {
      "cell_type": "code",
      "metadata": {
        "colab": {
          "base_uri": "https://localhost:8080/"
        },
        "id": "FcPkZBOpUBpw",
        "outputId": "52fada8e-366f-4cab-c62c-490524a3dc4d"
      },
      "source": [
        "s.count"
      ],
      "execution_count": 3,
      "outputs": [
        {
          "output_type": "execute_result",
          "data": {
            "text/plain": [
              "1"
            ]
          },
          "metadata": {
            "tags": []
          },
          "execution_count": 3
        }
      ]
    },
    {
      "cell_type": "code",
      "metadata": {
        "id": "AWmGttL2UDY1"
      },
      "source": [
        "class Student:\n",
        "    count = 0\n",
        "    \n",
        "    # Constructor\n",
        "\n",
        "    def __init__(self, name):\n",
        "        self.name = name\n",
        "        Student.count += 1\n",
        "        \n",
        "    def displayname(self):\n",
        "        print(\"The name is\",self.name)\n",
        "        \n",
        "    # Destructor\n",
        "    \n",
        "    def __del__(self):\n",
        "        print(\"The object is destroyed\")"
      ],
      "execution_count": 4,
      "outputs": []
    },
    {
      "cell_type": "code",
      "metadata": {
        "id": "fycw9FWpUwjB"
      },
      "source": [
        "s1 = Student(\"Nishita\")"
      ],
      "execution_count": 5,
      "outputs": []
    },
    {
      "cell_type": "code",
      "metadata": {
        "colab": {
          "base_uri": "https://localhost:8080/"
        },
        "id": "uqebev4YU0X8",
        "outputId": "fcd59695-100c-4ccb-8090-b54fb8866615"
      },
      "source": [
        "s1.displayname()"
      ],
      "execution_count": 6,
      "outputs": [
        {
          "output_type": "stream",
          "text": [
            "The name is Nishita\n"
          ],
          "name": "stdout"
        }
      ]
    },
    {
      "cell_type": "code",
      "metadata": {
        "colab": {
          "base_uri": "https://localhost:8080/"
        },
        "id": "BL-0LZihU2WV",
        "outputId": "57a18964-0774-467a-c331-5daaa6194a1d"
      },
      "source": [
        "s1.count"
      ],
      "execution_count": 7,
      "outputs": [
        {
          "output_type": "execute_result",
          "data": {
            "text/plain": [
              "1"
            ]
          },
          "metadata": {
            "tags": []
          },
          "execution_count": 7
        }
      ]
    },
    {
      "cell_type": "code",
      "metadata": {
        "colab": {
          "base_uri": "https://localhost:8080/"
        },
        "id": "99YcV104U4PG",
        "outputId": "318d1bfc-2f48-454d-dae7-3ef6780ee4f4"
      },
      "source": [
        "Student.count"
      ],
      "execution_count": 8,
      "outputs": [
        {
          "output_type": "execute_result",
          "data": {
            "text/plain": [
              "1"
            ]
          },
          "metadata": {
            "tags": []
          },
          "execution_count": 8
        }
      ]
    },
    {
      "cell_type": "code",
      "metadata": {
        "id": "GaRLUzIcU6fo"
      },
      "source": [
        "s2 = Student(\"Bhagat\")"
      ],
      "execution_count": 9,
      "outputs": []
    },
    {
      "cell_type": "code",
      "metadata": {
        "colab": {
          "base_uri": "https://localhost:8080/"
        },
        "id": "xF7vRJ45U9dc",
        "outputId": "7875c3db-de78-4955-efc3-1a7dfffdc39a"
      },
      "source": [
        "s2.displayname()"
      ],
      "execution_count": 10,
      "outputs": [
        {
          "output_type": "stream",
          "text": [
            "The name is Bhagat\n"
          ],
          "name": "stdout"
        }
      ]
    },
    {
      "cell_type": "code",
      "metadata": {
        "colab": {
          "base_uri": "https://localhost:8080/"
        },
        "id": "zohdtZWlVAWL",
        "outputId": "361fa3cb-9347-4d2d-d9fb-506de0402e8f"
      },
      "source": [
        "s2.count"
      ],
      "execution_count": 11,
      "outputs": [
        {
          "output_type": "execute_result",
          "data": {
            "text/plain": [
              "2"
            ]
          },
          "metadata": {
            "tags": []
          },
          "execution_count": 11
        }
      ]
    },
    {
      "cell_type": "code",
      "metadata": {
        "colab": {
          "base_uri": "https://localhost:8080/"
        },
        "id": "06axvLCkVCdo",
        "outputId": "2404d095-64ac-47e1-d92c-962e21d4fc13"
      },
      "source": [
        "# Delete the object\n",
        "del s2"
      ],
      "execution_count": 12,
      "outputs": [
        {
          "output_type": "stream",
          "text": [
            "The object is destroyed\n"
          ],
          "name": "stdout"
        }
      ]
    },
    {
      "cell_type": "code",
      "metadata": {
        "colab": {
          "base_uri": "https://localhost:8080/"
        },
        "id": "yaGA4K71VFe7",
        "outputId": "70aeabfa-5a30-4719-c976-fcfdd0e81285"
      },
      "source": [
        "del s1"
      ],
      "execution_count": 13,
      "outputs": [
        {
          "output_type": "stream",
          "text": [
            "The object is destroyed\n"
          ],
          "name": "stdout"
        }
      ]
    },
    {
      "cell_type": "markdown",
      "metadata": {
        "id": "MDOmn4PeWEfe"
      },
      "source": [
        "***Inheritance***"
      ]
    },
    {
      "cell_type": "code",
      "metadata": {
        "id": "JxfltBgNVRst"
      },
      "source": [
        "class A:\n",
        "    tempdata = 10\n",
        "    def fun(self):\n",
        "        print(\"This is base class\")"
      ],
      "execution_count": 14,
      "outputs": []
    },
    {
      "cell_type": "code",
      "metadata": {
        "id": "BsafMO7qWHdW"
      },
      "source": [
        "class B(A):\n",
        "    temp = 15"
      ],
      "execution_count": 15,
      "outputs": []
    },
    {
      "cell_type": "code",
      "metadata": {
        "colab": {
          "base_uri": "https://localhost:8080/"
        },
        "id": "n0l9uPXoWS5i",
        "outputId": "6f4f5263-1050-43cf-e774-b230091ef41d"
      },
      "source": [
        "obj = B()\n",
        "obj.temp"
      ],
      "execution_count": 16,
      "outputs": [
        {
          "output_type": "execute_result",
          "data": {
            "text/plain": [
              "15"
            ]
          },
          "metadata": {
            "tags": []
          },
          "execution_count": 16
        }
      ]
    },
    {
      "cell_type": "code",
      "metadata": {
        "colab": {
          "base_uri": "https://localhost:8080/"
        },
        "id": "NizNETj3WVyp",
        "outputId": "a96bed33-5b8a-4167-d9b8-b3ec76117c33"
      },
      "source": [
        "obj.tempdata"
      ],
      "execution_count": 17,
      "outputs": [
        {
          "output_type": "execute_result",
          "data": {
            "text/plain": [
              "10"
            ]
          },
          "metadata": {
            "tags": []
          },
          "execution_count": 17
        }
      ]
    },
    {
      "cell_type": "code",
      "metadata": {
        "colab": {
          "base_uri": "https://localhost:8080/"
        },
        "id": "Rh1vtYZvWYX4",
        "outputId": "a1a82bbe-b835-41d9-8cf8-9811717ea37b"
      },
      "source": [
        "obj.fun()"
      ],
      "execution_count": 18,
      "outputs": [
        {
          "output_type": "stream",
          "text": [
            "This is base class\n"
          ],
          "name": "stdout"
        }
      ]
    },
    {
      "cell_type": "markdown",
      "metadata": {
        "id": "1cdaXC4dW2gF"
      },
      "source": [
        "***Overriding***"
      ]
    },
    {
      "cell_type": "code",
      "metadata": {
        "id": "5k_CRnL2WzW5"
      },
      "source": [
        "class A:\n",
        "    tempdata = 10\n",
        "    def fun(self):\n",
        "        print(\"This is base class\")\n",
        "\n",
        "class B(A):\n",
        "    temp = 15\n",
        "    def fun(self):\n",
        "        print(\"This is derived class\")"
      ],
      "execution_count": 19,
      "outputs": []
    },
    {
      "cell_type": "code",
      "metadata": {
        "colab": {
          "base_uri": "https://localhost:8080/"
        },
        "id": "VP81qU5AW5EC",
        "outputId": "fb569d5d-3200-4f58-ebf5-3c40759c6518"
      },
      "source": [
        "obj = B()\n",
        "obj.fun()"
      ],
      "execution_count": 20,
      "outputs": [
        {
          "output_type": "stream",
          "text": [
            "This is derived class\n"
          ],
          "name": "stdout"
        }
      ]
    },
    {
      "cell_type": "code",
      "metadata": {
        "colab": {
          "base_uri": "https://localhost:8080/"
        },
        "id": "ayh8ryDWW8Rb",
        "outputId": "2d6d8696-b3a1-4c02-ee02-73fe709e00ae"
      },
      "source": [
        "obj = A()\n",
        "obj.fun()"
      ],
      "execution_count": 21,
      "outputs": [
        {
          "output_type": "stream",
          "text": [
            "This is base class\n"
          ],
          "name": "stdout"
        }
      ]
    },
    {
      "cell_type": "markdown",
      "metadata": {
        "id": "fRzXr0X7XDfc"
      },
      "source": [
        "***Data Hiding***"
      ]
    },
    {
      "cell_type": "code",
      "metadata": {
        "id": "gJ2O6gYMXAOs"
      },
      "source": [
        "# Public by default\n",
        "class A:\n",
        "    # private variable\n",
        "    __data = 5\n",
        "    temp = 10\n",
        "    \n",
        "    def fun(self):\n",
        "        print(self.__data)"
      ],
      "execution_count": 22,
      "outputs": []
    },
    {
      "cell_type": "code",
      "metadata": {
        "colab": {
          "base_uri": "https://localhost:8080/"
        },
        "id": "KHzr8ZgsXFq6",
        "outputId": "1665f70f-61fc-4205-c230-7c8095050fdc"
      },
      "source": [
        "obj = A()\n",
        "obj.temp"
      ],
      "execution_count": 23,
      "outputs": [
        {
          "output_type": "execute_result",
          "data": {
            "text/plain": [
              "10"
            ]
          },
          "metadata": {
            "tags": []
          },
          "execution_count": 23
        }
      ]
    },
    {
      "cell_type": "code",
      "metadata": {
        "colab": {
          "base_uri": "https://localhost:8080/"
        },
        "id": "UuSsMNnYXIWI",
        "outputId": "fc732a3b-4f7b-4065-a8b2-2eec58ac0099"
      },
      "source": [
        "\n",
        "obj.fun()"
      ],
      "execution_count": 24,
      "outputs": [
        {
          "output_type": "stream",
          "text": [
            "5\n"
          ],
          "name": "stdout"
        }
      ]
    },
    {
      "cell_type": "code",
      "metadata": {
        "id": "ospdUld-XNS0"
      },
      "source": [
        ""
      ],
      "execution_count": null,
      "outputs": []
    }
  ]
}