{
  "nbformat": 4,
  "nbformat_minor": 0,
  "metadata": {
    "colab": {
      "name": "Different Datatype.ipynb",
      "provenance": [],
      "collapsed_sections": []
    },
    "kernelspec": {
      "name": "python3",
      "display_name": "Python 3"
    },
    "language_info": {
      "name": "python"
    }
  },
  "cells": [
    {
      "cell_type": "code",
      "metadata": {
        "colab": {
          "base_uri": "https://localhost:8080/"
        },
        "id": "pQ6OBhJU9ZYf",
        "outputId": "cc6ff050-786d-42f4-eabe-605b4605d5c2"
      },
      "source": [
        "# Basic Data Types\n",
        "a = 1       # Integer\n",
        "b = 2.0     # Float\n",
        "c = \"Nishita\"   # String\n",
        "print(a, b, c)"
      ],
      "execution_count": null,
      "outputs": [
        {
          "output_type": "stream",
          "text": [
            "1 2.0 Nishita\n"
          ],
          "name": "stdout"
        }
      ]
    },
    {
      "cell_type": "code",
      "metadata": {
        "colab": {
          "base_uri": "https://localhost:8080/"
        },
        "id": "8OHSH_3N-Ge5",
        "outputId": "2b61957b-70b4-4959-ead6-1da99ab49118"
      },
      "source": [
        "# Multiple assignment\n",
        "a = b = c = 0\n",
        "print(a, b, c)\n",
        "\n",
        "\n",
        "a,b,c = 1, 2.0, \"Nishita\"\n",
        "print(a,b,c)"
      ],
      "execution_count": null,
      "outputs": [
        {
          "output_type": "stream",
          "text": [
            "0 0 0\n",
            "1 2.0 Nishita\n"
          ],
          "name": "stdout"
        }
      ]
    },
    {
      "cell_type": "code",
      "metadata": {
        "colab": {
          "base_uri": "https://localhost:8080/"
        },
        "id": "M38nN-_r-WPe",
        "outputId": "2d69be7c-c2f3-4512-8668-571107e0e11d"
      },
      "source": [
        "# String\n",
        "s = \"I am fascinated about IT industry\"\n",
        "print(s)"
      ],
      "execution_count": null,
      "outputs": [
        {
          "output_type": "stream",
          "text": [
            "I am fascinated about IT industry\n"
          ],
          "name": "stdout"
        }
      ]
    },
    {
      "cell_type": "code",
      "metadata": {
        "colab": {
          "base_uri": "https://localhost:8080/"
        },
        "id": "ZNqCbbD3-hHI",
        "outputId": "7903bfe9-0646-4a5c-95f1-f98fa832548d"
      },
      "source": [
        "print(s[0])    # First character using index"
      ],
      "execution_count": null,
      "outputs": [
        {
          "output_type": "stream",
          "text": [
            "I\n"
          ],
          "name": "stdout"
        }
      ]
    },
    {
      "cell_type": "code",
      "metadata": {
        "colab": {
          "base_uri": "https://localhost:8080/"
        },
        "id": "hD7vWCnM-8bn",
        "outputId": "17e1b2e2-28d3-41e8-920b-8810a09f3d92"
      },
      "source": [
        "print(s[0:15])       # It will print the word in index range\n",
        "print(s[:22])"
      ],
      "execution_count": null,
      "outputs": [
        {
          "output_type": "stream",
          "text": [
            "I am fascinated\n",
            "I am fascinated about \n"
          ],
          "name": "stdout"
        }
      ]
    },
    {
      "cell_type": "code",
      "metadata": {
        "colab": {
          "base_uri": "https://localhost:8080/"
        },
        "id": "IPNm6cf2_AQa",
        "outputId": "fa55d37b-ad2e-43c3-bf8b-619998bf2440"
      },
      "source": [
        "print(s[5:])        # prints from 8th index to the end of the string"
      ],
      "execution_count": null,
      "outputs": [
        {
          "output_type": "stream",
          "text": [
            "fascinated about IT industry\n"
          ],
          "name": "stdout"
        }
      ]
    },
    {
      "cell_type": "code",
      "metadata": {
        "colab": {
          "base_uri": "https://localhost:8080/"
        },
        "id": "BVZ8zjXw_RKG",
        "outputId": "4d2658b3-c5f5-471f-853c-452cc8282fc6"
      },
      "source": [
        "print(s *  2)          # It multiplies the string 2 times"
      ],
      "execution_count": null,
      "outputs": [
        {
          "output_type": "stream",
          "text": [
            "I am fascinated about IT industryI am fascinated about IT industry\n"
          ],
          "name": "stdout"
        }
      ]
    },
    {
      "cell_type": "code",
      "metadata": {
        "colab": {
          "base_uri": "https://localhost:8080/"
        },
        "id": "P5EcxeLz_c3w",
        "outputId": "f6259720-e954-4fc7-f2b0-0b25353d1abb"
      },
      "source": [
        "print(s + \" because its highly rewarding\")     # Concatenate a string with another string"
      ],
      "execution_count": null,
      "outputs": [
        {
          "output_type": "stream",
          "text": [
            "I am fascinated about IT industry because its highly rewarding\n"
          ],
          "name": "stdout"
        }
      ]
    },
    {
      "cell_type": "code",
      "metadata": {
        "colab": {
          "base_uri": "https://localhost:8080/"
        },
        "id": "0YIb86TM_sd0",
        "outputId": "ac51a17c-fa7a-4329-905f-6672aefc125c"
      },
      "source": [
        "# List : Lists are used to store multiple values and are mutable.\n",
        "l = [1, 3.0, \"goku\"]\n",
        "print(l)"
      ],
      "execution_count": null,
      "outputs": [
        {
          "output_type": "stream",
          "text": [
            "[1, 3.0, 'goku']\n"
          ],
          "name": "stdout"
        }
      ]
    },
    {
      "cell_type": "code",
      "metadata": {
        "colab": {
          "base_uri": "https://localhost:8080/"
        },
        "id": "vvrQthg7ALSp",
        "outputId": "90d8ead0-570d-4a3a-e736-cfba3932568a"
      },
      "source": [
        "print(l[0])    # First element"
      ],
      "execution_count": null,
      "outputs": [
        {
          "output_type": "stream",
          "text": [
            "1\n"
          ],
          "name": "stdout"
        }
      ]
    },
    {
      "cell_type": "code",
      "metadata": {
        "colab": {
          "base_uri": "https://localhost:8080/"
        },
        "id": "61iFPI3nAPui",
        "outputId": "d4faf41d-83a1-46e5-9d0f-51786277345a"
      },
      "source": [
        "l[0] = 2      # Mutable or changeable\n",
        "print(l)"
      ],
      "execution_count": null,
      "outputs": [
        {
          "output_type": "stream",
          "text": [
            "[2, 3.0, 'goku']\n"
          ],
          "name": "stdout"
        }
      ]
    },
    {
      "cell_type": "code",
      "metadata": {
        "colab": {
          "base_uri": "https://localhost:8080/"
        },
        "id": "vfsN5i1pAXHy",
        "outputId": "6697c6e7-322b-44eb-90d6-8573a0ca628b"
      },
      "source": [
        "t = [1,2,3,4,5]\n",
        "newlist = l + t        # Concatenate with new list\n",
        "print(newlist)"
      ],
      "execution_count": null,
      "outputs": [
        {
          "output_type": "stream",
          "text": [
            "[2, 3.0, 'goku', 1, 2, 3, 4, 5]\n"
          ],
          "name": "stdout"
        }
      ]
    },
    {
      "cell_type": "code",
      "metadata": {
        "colab": {
          "base_uri": "https://localhost:8080/"
        },
        "id": "5umyOriNAdLr",
        "outputId": "d820fdaf-cac8-4b2c-afde-6f61fffbb4f6"
      },
      "source": [
        "# Tuples : A tuple is a collection of objects which ordered and immutable.\n",
        "# immmutable\n",
        "tup = (1, 5.0, True, \"str\")\n",
        "print(tup)"
      ],
      "execution_count": null,
      "outputs": [
        {
          "output_type": "stream",
          "text": [
            "(1, 5.0, True, 'str')\n"
          ],
          "name": "stdout"
        }
      ]
    },
    {
      "cell_type": "code",
      "metadata": {
        "colab": {
          "base_uri": "https://localhost:8080/"
        },
        "id": "Ew88eEl7AzEg",
        "outputId": "825b1cbf-80bf-444d-9725-d3ec9aa154df"
      },
      "source": [
        "# Dictionary - Hashmap\n",
        "# Key : Value Pair\n",
        "\n",
        "d = {1:\"one\", \"ten\":10}\n",
        "print(d)"
      ],
      "execution_count": null,
      "outputs": [
        {
          "output_type": "stream",
          "text": [
            "{1: 'one', 'ten': 10}\n"
          ],
          "name": "stdout"
        }
      ]
    },
    {
      "cell_type": "code",
      "metadata": {
        "colab": {
          "base_uri": "https://localhost:8080/"
        },
        "id": "HwQb_pb5BOz5",
        "outputId": "64870152-ef8c-42e1-b24b-f5f6a349fb5a"
      },
      "source": [
        "print(d[1])     # Print value for 1"
      ],
      "execution_count": null,
      "outputs": [
        {
          "output_type": "stream",
          "text": [
            "one\n"
          ],
          "name": "stdout"
        }
      ]
    },
    {
      "cell_type": "code",
      "metadata": {
        "colab": {
          "base_uri": "https://localhost:8080/"
        },
        "id": "zdKuMeyoBWME",
        "outputId": "cc8ff793-8e05-4be0-cd63-9e6d1f653886"
      },
      "source": [
        "print(d['ten'])"
      ],
      "execution_count": null,
      "outputs": [
        {
          "output_type": "stream",
          "text": [
            "10\n"
          ],
          "name": "stdout"
        }
      ]
    },
    {
      "cell_type": "code",
      "metadata": {
        "colab": {
          "base_uri": "https://localhost:8080/"
        },
        "id": "3m8Qj_pBBYwj",
        "outputId": "0babb221-667c-4520-8986-d80ab74cd9a9"
      },
      "source": [
        "print(d.keys())   # Print key values"
      ],
      "execution_count": null,
      "outputs": [
        {
          "output_type": "stream",
          "text": [
            "dict_keys([1, 'ten'])\n"
          ],
          "name": "stdout"
        }
      ]
    },
    {
      "cell_type": "code",
      "metadata": {
        "colab": {
          "base_uri": "https://localhost:8080/"
        },
        "id": "mV_QqaOgCOmX",
        "outputId": "734492c4-d72a-4ac6-8a57-571b2d96939a"
      },
      "source": [
        "print(d.values())      # Print the values"
      ],
      "execution_count": null,
      "outputs": [
        {
          "output_type": "stream",
          "text": [
            "dict_values(['one', 10])\n"
          ],
          "name": "stdout"
        }
      ]
    },
    {
      "cell_type": "code",
      "metadata": {
        "colab": {
          "base_uri": "https://localhost:8080/"
        },
        "id": "GX0GbyqyC3dk",
        "outputId": "0a648dd8-fd3a-43c8-d8d1-ba1e0d76797f"
      },
      "source": [
        "# Set - unique values\n",
        "s = {1,1,2,2,3}\n",
        "print(s)"
      ],
      "execution_count": null,
      "outputs": [
        {
          "output_type": "stream",
          "text": [
            "{1, 2, 3}\n"
          ],
          "name": "stdout"
        }
      ]
    },
    {
      "cell_type": "code",
      "metadata": {
        "colab": {
          "base_uri": "https://localhost:8080/"
        },
        "id": "oPTOXmrPCQ6q",
        "outputId": "2d99c6c6-d7b6-4c5e-b268-594f1ffa040f"
      },
      "source": [
        "# Data type conversion\n",
        "a = 2.0\n",
        "print(type(a))"
      ],
      "execution_count": null,
      "outputs": [
        {
          "output_type": "stream",
          "text": [
            "<class 'float'>\n"
          ],
          "name": "stdout"
        }
      ]
    },
    {
      "cell_type": "code",
      "metadata": {
        "colab": {
          "base_uri": "https://localhost:8080/"
        },
        "id": "_UigyV-TCZjG",
        "outputId": "a2bb9228-3369-4622-e675-c1a15d6026e2"
      },
      "source": [
        "a = int(a)              # Float to int\n",
        "print(type(a))"
      ],
      "execution_count": null,
      "outputs": [
        {
          "output_type": "stream",
          "text": [
            "<class 'int'>\n"
          ],
          "name": "stdout"
        }
      ]
    },
    {
      "cell_type": "code",
      "metadata": {
        "colab": {
          "base_uri": "https://localhost:8080/"
        },
        "id": "Kpre8HK_CdIJ",
        "outputId": "385b8a5b-08df-40da-990c-bbaff28b3b83"
      },
      "source": [
        "a = str(a)             # Int to string\n",
        "print(type(a))\n",
        "print(a)"
      ],
      "execution_count": null,
      "outputs": [
        {
          "output_type": "stream",
          "text": [
            "<class 'str'>\n",
            "2\n"
          ],
          "name": "stdout"
        }
      ]
    },
    {
      "cell_type": "code",
      "metadata": {
        "colab": {
          "base_uri": "https://localhost:8080/"
        },
        "id": "GHGLtEooCgAa",
        "outputId": "189c6864-ae6c-4cab-eb75-b1fd5a7b1a18"
      },
      "source": [
        "# Ascii char\n",
        "print(ord(\"a\"))      # Char to int"
      ],
      "execution_count": null,
      "outputs": [
        {
          "output_type": "stream",
          "text": [
            "97\n"
          ],
          "name": "stdout"
        }
      ]
    },
    {
      "cell_type": "code",
      "metadata": {
        "colab": {
          "base_uri": "https://localhost:8080/"
        },
        "id": "ACn0GLuKC9sw",
        "outputId": "21415bb1-59d3-4c28-bea3-4e50738a40d1"
      },
      "source": [
        "print(chr(67))      # Int to char"
      ],
      "execution_count": null,
      "outputs": [
        {
          "output_type": "stream",
          "text": [
            "C\n"
          ],
          "name": "stdout"
        }
      ]
    },
    {
      "cell_type": "code",
      "metadata": {
        "id": "aO_2UYd0DCVZ"
      },
      "source": [
        ""
      ],
      "execution_count": null,
      "outputs": []
    }
  ]
}