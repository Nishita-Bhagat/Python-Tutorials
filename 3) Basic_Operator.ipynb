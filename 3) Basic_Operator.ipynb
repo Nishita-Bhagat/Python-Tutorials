{
  "nbformat": 4,
  "nbformat_minor": 0,
  "metadata": {
    "colab": {
      "name": "Basic Operator.ipynb",
      "provenance": [],
      "collapsed_sections": []
    },
    "kernelspec": {
      "name": "python3",
      "display_name": "Python 3"
    },
    "language_info": {
      "name": "python"
    }
  },
  "cells": [
    {
      "cell_type": "markdown",
      "metadata": {
        "id": "Oy428nJgSLP2"
      },
      "source": [
        "***Arithmetic Operator***"
      ]
    },
    {
      "cell_type": "code",
      "metadata": {
        "colab": {
          "base_uri": "https://localhost:8080/"
        },
        "id": "BM1pz1cMIzP2",
        "outputId": "f085f8bc-1834-4428-9ddf-2f59f683e4e7"
      },
      "source": [
        "2 + 3         # Addition"
      ],
      "execution_count": null,
      "outputs": [
        {
          "output_type": "execute_result",
          "data": {
            "text/plain": [
              "5"
            ]
          },
          "metadata": {
            "tags": []
          },
          "execution_count": 2
        }
      ]
    },
    {
      "cell_type": "code",
      "metadata": {
        "colab": {
          "base_uri": "https://localhost:8080/"
        },
        "id": "u338pFL5I14O",
        "outputId": "802c2060-73b1-45ca-bb01-091cba5087dc"
      },
      "source": [
        "10 - 5        # Subtraction"
      ],
      "execution_count": null,
      "outputs": [
        {
          "output_type": "execute_result",
          "data": {
            "text/plain": [
              "5"
            ]
          },
          "metadata": {
            "tags": []
          },
          "execution_count": 3
        }
      ]
    },
    {
      "cell_type": "code",
      "metadata": {
        "colab": {
          "base_uri": "https://localhost:8080/"
        },
        "id": "jCyA5W-TRkOA",
        "outputId": "f7664e43-104e-40f8-b076-e5ed134193d9"
      },
      "source": [
        "2 * 3         # multiplication"
      ],
      "execution_count": null,
      "outputs": [
        {
          "output_type": "execute_result",
          "data": {
            "text/plain": [
              "6"
            ]
          },
          "metadata": {
            "tags": []
          },
          "execution_count": 4
        }
      ]
    },
    {
      "cell_type": "code",
      "metadata": {
        "colab": {
          "base_uri": "https://localhost:8080/"
        },
        "id": "Dh9ilxGWRl7A",
        "outputId": "4776da46-76d3-4e07-b4f9-fcdd3333a5a2"
      },
      "source": [
        "5 / 3         # division"
      ],
      "execution_count": null,
      "outputs": [
        {
          "output_type": "execute_result",
          "data": {
            "text/plain": [
              "1.6666666666666667"
            ]
          },
          "metadata": {
            "tags": []
          },
          "execution_count": 5
        }
      ]
    },
    {
      "cell_type": "code",
      "metadata": {
        "colab": {
          "base_uri": "https://localhost:8080/"
        },
        "id": "d5M0C0UARnfi",
        "outputId": "5cacf2dc-dbe9-4d61-f9d9-f7b98610699a"
      },
      "source": [
        "5 // 3        # floor division"
      ],
      "execution_count": null,
      "outputs": [
        {
          "output_type": "execute_result",
          "data": {
            "text/plain": [
              "1"
            ]
          },
          "metadata": {
            "tags": []
          },
          "execution_count": 6
        }
      ]
    },
    {
      "cell_type": "code",
      "metadata": {
        "colab": {
          "base_uri": "https://localhost:8080/"
        },
        "id": "Fl5KqsCTRpp2",
        "outputId": "4b321676-8a2f-4c2b-eaa2-1fde48d6b8fc"
      },
      "source": [
        "6 % 4         # modulus/remainder"
      ],
      "execution_count": null,
      "outputs": [
        {
          "output_type": "execute_result",
          "data": {
            "text/plain": [
              "2"
            ]
          },
          "metadata": {
            "tags": []
          },
          "execution_count": 7
        }
      ]
    },
    {
      "cell_type": "code",
      "metadata": {
        "colab": {
          "base_uri": "https://localhost:8080/"
        },
        "id": "WrDQ7sNhRrGq",
        "outputId": "1d025840-6c2f-4887-fcbd-e03100ff7411"
      },
      "source": [
        "2 ** 4        # exponentiation/power"
      ],
      "execution_count": null,
      "outputs": [
        {
          "output_type": "execute_result",
          "data": {
            "text/plain": [
              "16"
            ]
          },
          "metadata": {
            "tags": []
          },
          "execution_count": 8
        }
      ]
    },
    {
      "cell_type": "markdown",
      "metadata": {
        "id": "nJ01XezTSBzb"
      },
      "source": [
        "***Comparison Operator***\n",
        "\n",
        "Returns boolean values"
      ]
    },
    {
      "cell_type": "code",
      "metadata": {
        "colab": {
          "base_uri": "https://localhost:8080/"
        },
        "id": "KTvR_qm0R1bI",
        "outputId": "3541f4d9-66e8-4c90-a99f-fff58d8cb197"
      },
      "source": [
        "2 == 2         # equals"
      ],
      "execution_count": null,
      "outputs": [
        {
          "output_type": "execute_result",
          "data": {
            "text/plain": [
              "True"
            ]
          },
          "metadata": {
            "tags": []
          },
          "execution_count": 10
        }
      ]
    },
    {
      "cell_type": "code",
      "metadata": {
        "colab": {
          "base_uri": "https://localhost:8080/"
        },
        "id": "9qvTJsrXR23j",
        "outputId": "f58e71fc-1a50-402d-bab5-989309b4830d"
      },
      "source": [
        "2 != 2         # not equals"
      ],
      "execution_count": null,
      "outputs": [
        {
          "output_type": "execute_result",
          "data": {
            "text/plain": [
              "False"
            ]
          },
          "metadata": {
            "tags": []
          },
          "execution_count": 11
        }
      ]
    },
    {
      "cell_type": "code",
      "metadata": {
        "colab": {
          "base_uri": "https://localhost:8080/"
        },
        "id": "oqsoFDKSR4Pz",
        "outputId": "8e86fa26-9f62-45c8-d253-6d2a4fb46004"
      },
      "source": [
        "5 < 10         # less than"
      ],
      "execution_count": null,
      "outputs": [
        {
          "output_type": "execute_result",
          "data": {
            "text/plain": [
              "True"
            ]
          },
          "metadata": {
            "tags": []
          },
          "execution_count": 12
        }
      ]
    },
    {
      "cell_type": "code",
      "metadata": {
        "colab": {
          "base_uri": "https://localhost:8080/"
        },
        "id": "UTtTW1nhR5kx",
        "outputId": "8b8d64d7-e394-4420-9eb3-53b668a3048e"
      },
      "source": [
        "5 > 10         # greater than"
      ],
      "execution_count": null,
      "outputs": [
        {
          "output_type": "execute_result",
          "data": {
            "text/plain": [
              "False"
            ]
          },
          "metadata": {
            "tags": []
          },
          "execution_count": 13
        }
      ]
    },
    {
      "cell_type": "code",
      "metadata": {
        "colab": {
          "base_uri": "https://localhost:8080/"
        },
        "id": "SRcPRJFaR64p",
        "outputId": "a8b54916-ad0a-49fe-c741-49641006b3a1"
      },
      "source": [
        "5 <= 5         # less than or equal to"
      ],
      "execution_count": null,
      "outputs": [
        {
          "output_type": "execute_result",
          "data": {
            "text/plain": [
              "True"
            ]
          },
          "metadata": {
            "tags": []
          },
          "execution_count": 14
        }
      ]
    },
    {
      "cell_type": "code",
      "metadata": {
        "colab": {
          "base_uri": "https://localhost:8080/"
        },
        "id": "WjdjMgfnR8tb",
        "outputId": "3bbfe5c8-75b5-48bd-f22d-08998e6634e4"
      },
      "source": [
        "10 >= 9        # greater than or equal to"
      ],
      "execution_count": null,
      "outputs": [
        {
          "output_type": "execute_result",
          "data": {
            "text/plain": [
              "True"
            ]
          },
          "metadata": {
            "tags": []
          },
          "execution_count": 15
        }
      ]
    },
    {
      "cell_type": "markdown",
      "metadata": {
        "id": "Kw1Rj6AcR8K_"
      },
      "source": [
        "***Assignment Operator***"
      ]
    },
    {
      "cell_type": "code",
      "metadata": {
        "colab": {
          "base_uri": "https://localhost:8080/"
        },
        "id": "xoqHkH5kRHF3",
        "outputId": "f0ada738-81b0-4bd6-e12e-a45ab4b5412a"
      },
      "source": [
        "a = 1\n",
        "a"
      ],
      "execution_count": null,
      "outputs": [
        {
          "output_type": "execute_result",
          "data": {
            "text/plain": [
              "1"
            ]
          },
          "metadata": {
            "tags": []
          },
          "execution_count": 2
        }
      ]
    },
    {
      "cell_type": "code",
      "metadata": {
        "colab": {
          "base_uri": "https://localhost:8080/"
        },
        "id": "vPPcD4qgRIlA",
        "outputId": "c19e393b-1ef1-406c-b7ce-5d8f33e472e8"
      },
      "source": [
        "a += 2    # a = a + 2\n",
        "a"
      ],
      "execution_count": null,
      "outputs": [
        {
          "output_type": "execute_result",
          "data": {
            "text/plain": [
              "3"
            ]
          },
          "metadata": {
            "tags": []
          },
          "execution_count": 3
        }
      ]
    },
    {
      "cell_type": "code",
      "metadata": {
        "colab": {
          "base_uri": "https://localhost:8080/"
        },
        "id": "ikMcrvtDRMZV",
        "outputId": "85f0def2-3ceb-4b0c-d190-d34e7d15dfa7"
      },
      "source": [
        "a -= 1   # a = a -1\n",
        "a"
      ],
      "execution_count": null,
      "outputs": [
        {
          "output_type": "execute_result",
          "data": {
            "text/plain": [
              "2"
            ]
          },
          "metadata": {
            "tags": []
          },
          "execution_count": 4
        }
      ]
    },
    {
      "cell_type": "code",
      "metadata": {
        "colab": {
          "base_uri": "https://localhost:8080/"
        },
        "id": "8iXiqH2iRQ9W",
        "outputId": "f13d9e57-ae97-475a-8531-b5b74b0fb587"
      },
      "source": [
        "a *= 3\n",
        "a"
      ],
      "execution_count": null,
      "outputs": [
        {
          "output_type": "execute_result",
          "data": {
            "text/plain": [
              "6"
            ]
          },
          "metadata": {
            "tags": []
          },
          "execution_count": 5
        }
      ]
    },
    {
      "cell_type": "code",
      "metadata": {
        "colab": {
          "base_uri": "https://localhost:8080/"
        },
        "id": "a_LWvVSFRYZx",
        "outputId": "5dc21d56-402f-4d2c-d323-2230f4ead9ef"
      },
      "source": [
        "a /= 2\n",
        "a"
      ],
      "execution_count": null,
      "outputs": [
        {
          "output_type": "execute_result",
          "data": {
            "text/plain": [
              "3.0"
            ]
          },
          "metadata": {
            "tags": []
          },
          "execution_count": 6
        }
      ]
    },
    {
      "cell_type": "code",
      "metadata": {
        "colab": {
          "base_uri": "https://localhost:8080/"
        },
        "id": "HTwfi7UZRaDa",
        "outputId": "3dc8ff43-1db5-4f5c-c6b2-93a24189f3a6"
      },
      "source": [
        "a //= 2\n",
        "a"
      ],
      "execution_count": null,
      "outputs": [
        {
          "output_type": "execute_result",
          "data": {
            "text/plain": [
              "1.0"
            ]
          },
          "metadata": {
            "tags": []
          },
          "execution_count": 7
        }
      ]
    },
    {
      "cell_type": "code",
      "metadata": {
        "colab": {
          "base_uri": "https://localhost:8080/"
        },
        "id": "tLP_mczRRbed",
        "outputId": "cb907e7e-41f8-470f-9433-3cc8a987b131"
      },
      "source": [
        "a = 5\n",
        "a %= 3\n",
        "a"
      ],
      "execution_count": null,
      "outputs": [
        {
          "output_type": "execute_result",
          "data": {
            "text/plain": [
              "2"
            ]
          },
          "metadata": {
            "tags": []
          },
          "execution_count": 8
        }
      ]
    },
    {
      "cell_type": "code",
      "metadata": {
        "colab": {
          "base_uri": "https://localhost:8080/"
        },
        "id": "V1nzyK0eReEY",
        "outputId": "29e27094-b81c-4c0e-a805-78ab7b8c6a66"
      },
      "source": [
        "a **= 5\n",
        "a"
      ],
      "execution_count": null,
      "outputs": [
        {
          "output_type": "execute_result",
          "data": {
            "text/plain": [
              "32"
            ]
          },
          "metadata": {
            "tags": []
          },
          "execution_count": 9
        }
      ]
    },
    {
      "cell_type": "markdown",
      "metadata": {
        "id": "NRcZcQaYR2px"
      },
      "source": [
        "***Bitwise Operator***"
      ]
    },
    {
      "cell_type": "code",
      "metadata": {
        "colab": {
          "base_uri": "https://localhost:8080/"
        },
        "id": "X-pnRi9fRwYi",
        "outputId": "2a8ed610-e752-4a51-85b1-a1a2f53750be"
      },
      "source": [
        "a = 5\n",
        "b = 10\n",
        "print(\"5:   \", bin(a))  #Binary operator\n",
        "print(\"10: \", bin(b))"
      ],
      "execution_count": null,
      "outputs": [
        {
          "output_type": "stream",
          "text": [
            "5:    0b101\n",
            "10:  0b1010\n"
          ],
          "name": "stdout"
        }
      ]
    },
    {
      "cell_type": "code",
      "metadata": {
        "colab": {
          "base_uri": "https://localhost:8080/"
        },
        "id": "InvlJclhSkpc",
        "outputId": "11ed9884-09ea-4536-dcc2-d02204925ec0"
      },
      "source": [
        "c = a & b         # Bitwise AND\n",
        "print(bin(c))"
      ],
      "execution_count": null,
      "outputs": [
        {
          "output_type": "stream",
          "text": [
            "0b0\n"
          ],
          "name": "stdout"
        }
      ]
    },
    {
      "cell_type": "code",
      "metadata": {
        "colab": {
          "base_uri": "https://localhost:8080/"
        },
        "id": "bNwu1VU1S8lj",
        "outputId": "9c784ef5-16ce-4f6c-9fad-ab8235f78c58"
      },
      "source": [
        "c = a | b         # Bitwise OR\n",
        "print(bin(c))"
      ],
      "execution_count": null,
      "outputs": [
        {
          "output_type": "stream",
          "text": [
            "0b1111\n"
          ],
          "name": "stdout"
        }
      ]
    },
    {
      "cell_type": "code",
      "metadata": {
        "colab": {
          "base_uri": "https://localhost:8080/"
        },
        "id": "7GuNRNUUUBXx",
        "outputId": "8329894e-a6ac-4489-876f-a9e5213124e0"
      },
      "source": [
        "c = a ^ b         # Bitwise EXOR\n",
        "print(bin(c))"
      ],
      "execution_count": null,
      "outputs": [
        {
          "output_type": "stream",
          "text": [
            "0b1111\n"
          ],
          "name": "stdout"
        }
      ]
    },
    {
      "cell_type": "code",
      "metadata": {
        "colab": {
          "base_uri": "https://localhost:8080/"
        },
        "id": "hckBxEhhUEa0",
        "outputId": "5a78fcd6-b01f-435f-ead8-7b92992f837d"
      },
      "source": [
        "c = ~a            # Bitwise complement\n",
        "print(bin(c))"
      ],
      "execution_count": null,
      "outputs": [
        {
          "output_type": "stream",
          "text": [
            "-0b110\n"
          ],
          "name": "stdout"
        }
      ]
    },
    {
      "cell_type": "code",
      "metadata": {
        "colab": {
          "base_uri": "https://localhost:8080/"
        },
        "id": "Z6ln0ADoUHaE",
        "outputId": "5405ac88-aec7-495e-c122-b557438a9fb7"
      },
      "source": [
        "c = a << 1         # Bitwise left shift\n",
        "print(bin(c))"
      ],
      "execution_count": null,
      "outputs": [
        {
          "output_type": "stream",
          "text": [
            "0b1010\n"
          ],
          "name": "stdout"
        }
      ]
    },
    {
      "cell_type": "code",
      "metadata": {
        "colab": {
          "base_uri": "https://localhost:8080/"
        },
        "id": "KzkRHkD4UKIc",
        "outputId": "d5c7331f-092e-44d6-f01c-9e7e006a4901"
      },
      "source": [
        "c = b >> 2         # Bitwise right shift\n",
        "print(bin(c))"
      ],
      "execution_count": null,
      "outputs": [
        {
          "output_type": "stream",
          "text": [
            "0b10\n"
          ],
          "name": "stdout"
        }
      ]
    },
    {
      "cell_type": "markdown",
      "metadata": {
        "id": "xTwyv6MCUQqF"
      },
      "source": [
        "***Logical Operator***"
      ]
    },
    {
      "cell_type": "code",
      "metadata": {
        "colab": {
          "base_uri": "https://localhost:8080/"
        },
        "id": "iwou9hRyUMSX",
        "outputId": "1b8de243-8b52-4df4-dac1-bda4b4c6559d"
      },
      "source": [
        "True and True        # logical AND"
      ],
      "execution_count": null,
      "outputs": [
        {
          "output_type": "execute_result",
          "data": {
            "text/plain": [
              "True"
            ]
          },
          "metadata": {
            "tags": []
          },
          "execution_count": 17
        }
      ]
    },
    {
      "cell_type": "code",
      "metadata": {
        "colab": {
          "base_uri": "https://localhost:8080/"
        },
        "id": "wLxKaUp1hqx7",
        "outputId": "d1e35d65-c4c4-4be9-eff1-d7b242f91842"
      },
      "source": [
        "True and False"
      ],
      "execution_count": null,
      "outputs": [
        {
          "output_type": "execute_result",
          "data": {
            "text/plain": [
              "False"
            ]
          },
          "metadata": {
            "tags": []
          },
          "execution_count": 18
        }
      ]
    },
    {
      "cell_type": "code",
      "metadata": {
        "colab": {
          "base_uri": "https://localhost:8080/"
        },
        "id": "_nstHLVmhscz",
        "outputId": "d187cd1d-974f-480b-bfac-cdf912f7ace7"
      },
      "source": [
        "True or False        # logical OR"
      ],
      "execution_count": null,
      "outputs": [
        {
          "output_type": "execute_result",
          "data": {
            "text/plain": [
              "True"
            ]
          },
          "metadata": {
            "tags": []
          },
          "execution_count": 19
        }
      ]
    },
    {
      "cell_type": "code",
      "metadata": {
        "colab": {
          "base_uri": "https://localhost:8080/"
        },
        "id": "1NokNjFBht7k",
        "outputId": "7facca56-e453-4181-d1c9-c470f1190037"
      },
      "source": [
        "not False            # logical NOT"
      ],
      "execution_count": null,
      "outputs": [
        {
          "output_type": "execute_result",
          "data": {
            "text/plain": [
              "True"
            ]
          },
          "metadata": {
            "tags": []
          },
          "execution_count": 20
        }
      ]
    },
    {
      "cell_type": "markdown",
      "metadata": {
        "id": "skDWXPI3hyBc"
      },
      "source": [
        "***Membership operator***"
      ]
    },
    {
      "cell_type": "code",
      "metadata": {
        "colab": {
          "base_uri": "https://localhost:8080/"
        },
        "id": "QUC-_rcXhvan",
        "outputId": "4c5a02e3-934c-4662-aaf0-97a21690b51f"
      },
      "source": [
        "2 in [1,2,3]        # Presents in"
      ],
      "execution_count": null,
      "outputs": [
        {
          "output_type": "execute_result",
          "data": {
            "text/plain": [
              "True"
            ]
          },
          "metadata": {
            "tags": []
          },
          "execution_count": 21
        }
      ]
    },
    {
      "cell_type": "code",
      "metadata": {
        "colab": {
          "base_uri": "https://localhost:8080/"
        },
        "id": "LWzY_6a4h4VD",
        "outputId": "005ec705-49c5-4a40-cdc9-c28429258e34"
      },
      "source": [
        "5 in [1,2,3]"
      ],
      "execution_count": null,
      "outputs": [
        {
          "output_type": "execute_result",
          "data": {
            "text/plain": [
              "False"
            ]
          },
          "metadata": {
            "tags": []
          },
          "execution_count": 22
        }
      ]
    },
    {
      "cell_type": "code",
      "metadata": {
        "colab": {
          "base_uri": "https://localhost:8080/"
        },
        "id": "MwGh6xtzh6LE",
        "outputId": "85447a2a-9989-487a-b282-21b074c3d485"
      },
      "source": [
        "'a' in 'abc'"
      ],
      "execution_count": null,
      "outputs": [
        {
          "output_type": "execute_result",
          "data": {
            "text/plain": [
              "True"
            ]
          },
          "metadata": {
            "tags": []
          },
          "execution_count": 23
        }
      ]
    },
    {
      "cell_type": "code",
      "metadata": {
        "colab": {
          "base_uri": "https://localhost:8080/"
        },
        "id": "6wDgoIR7h7-Z",
        "outputId": "f4b8d021-0310-46d4-b6ba-2d8c6256d0f1"
      },
      "source": [
        "5 not in [1,2,3]     # not present in"
      ],
      "execution_count": null,
      "outputs": [
        {
          "output_type": "execute_result",
          "data": {
            "text/plain": [
              "True"
            ]
          },
          "metadata": {
            "tags": []
          },
          "execution_count": 24
        }
      ]
    },
    {
      "cell_type": "code",
      "metadata": {
        "colab": {
          "base_uri": "https://localhost:8080/"
        },
        "id": "sAGrMBBdh-Nh",
        "outputId": "1f4eb7b5-cf88-424a-b9fb-922927c0be15"
      },
      "source": [
        "2 not in [1,2,3]"
      ],
      "execution_count": null,
      "outputs": [
        {
          "output_type": "execute_result",
          "data": {
            "text/plain": [
              "False"
            ]
          },
          "metadata": {
            "tags": []
          },
          "execution_count": 25
        }
      ]
    },
    {
      "cell_type": "markdown",
      "metadata": {
        "id": "qDzr2-KQiCCH"
      },
      "source": [
        "***Identity Operator***"
      ]
    },
    {
      "cell_type": "code",
      "metadata": {
        "colab": {
          "base_uri": "https://localhost:8080/"
        },
        "id": "d5xZsaUgh_t8",
        "outputId": "23d161db-74d5-4037-81e3-cbb5b67914bb"
      },
      "source": [
        "'word' is 'word'     # equality"
      ],
      "execution_count": null,
      "outputs": [
        {
          "output_type": "execute_result",
          "data": {
            "text/plain": [
              "True"
            ]
          },
          "metadata": {
            "tags": []
          },
          "execution_count": 26
        }
      ]
    },
    {
      "cell_type": "code",
      "metadata": {
        "colab": {
          "base_uri": "https://localhost:8080/"
        },
        "id": "3LaZZQ64iM10",
        "outputId": "7bd36b2c-fbad-4b9a-899d-bb1462e46fea"
      },
      "source": [
        "'wor' is 'word'"
      ],
      "execution_count": null,
      "outputs": [
        {
          "output_type": "execute_result",
          "data": {
            "text/plain": [
              "False"
            ]
          },
          "metadata": {
            "tags": []
          },
          "execution_count": 27
        }
      ]
    },
    {
      "cell_type": "code",
      "metadata": {
        "colab": {
          "base_uri": "https://localhost:8080/"
        },
        "id": "ls0UQR36i4z3",
        "outputId": "76c1b40d-4105-4102-ab60-ba352c4ea9a5"
      },
      "source": [
        "'word' is not 'word'     # not equality"
      ],
      "execution_count": null,
      "outputs": [
        {
          "output_type": "execute_result",
          "data": {
            "text/plain": [
              "False"
            ]
          },
          "metadata": {
            "tags": []
          },
          "execution_count": 28
        }
      ]
    },
    {
      "cell_type": "code",
      "metadata": {
        "colab": {
          "base_uri": "https://localhost:8080/"
        },
        "id": "nfl1pXEBi8eH",
        "outputId": "8e68595a-e1db-4d81-d12a-66f2668e3143"
      },
      "source": [
        "'word' is not 'wor'"
      ],
      "execution_count": null,
      "outputs": [
        {
          "output_type": "execute_result",
          "data": {
            "text/plain": [
              "True"
            ]
          },
          "metadata": {
            "tags": []
          },
          "execution_count": 29
        }
      ]
    },
    {
      "cell_type": "code",
      "metadata": {
        "id": "vJ3OO1zri-Je"
      },
      "source": [
        ""
      ],
      "execution_count": null,
      "outputs": []
    }
  ]
}