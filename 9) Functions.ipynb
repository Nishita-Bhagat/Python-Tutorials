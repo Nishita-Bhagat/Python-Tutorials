{
  "nbformat": 4,
  "nbformat_minor": 0,
  "metadata": {
    "colab": {
      "name": "Functions.ipynb",
      "provenance": [],
      "collapsed_sections": []
    },
    "kernelspec": {
      "name": "python3",
      "display_name": "Python 3"
    },
    "language_info": {
      "name": "python"
    }
  },
  "cells": [
    {
      "cell_type": "markdown",
      "metadata": {
        "id": "eCm_y6QHHP8_"
      },
      "source": [
        "***A function is a group of related statements that performs a specific task. Functions help break our program into smaller and modular chunks. As our program grows larger and larger, functions make it more organized and manageable.***\n"
      ]
    },
    {
      "cell_type": "code",
      "metadata": {
        "id": "d-wOqn385XEj"
      },
      "source": [
        "# Code reusability to perform certain task\n",
        "\n",
        "def welcome():\n",
        "    print(\"Welcome to Python tutorial!!!\")"
      ],
      "execution_count": 1,
      "outputs": []
    },
    {
      "cell_type": "code",
      "metadata": {
        "colab": {
          "base_uri": "https://localhost:8080/"
        },
        "id": "lFBumtAwNAVu",
        "outputId": "74ef4239-b3e4-49b2-fb16-7da464b3a2e2"
      },
      "source": [
        "welcome()"
      ],
      "execution_count": 2,
      "outputs": [
        {
          "output_type": "stream",
          "text": [
            "Welcome to Python tutorial!!!\n"
          ],
          "name": "stdout"
        }
      ]
    },
    {
      "cell_type": "code",
      "metadata": {
        "id": "zXMEWq9bPUii"
      },
      "source": [
        "# How to take arguments\n",
        "\n",
        "def add(a, b):\n",
        "    return a+b"
      ],
      "execution_count": 3,
      "outputs": []
    },
    {
      "cell_type": "code",
      "metadata": {
        "colab": {
          "base_uri": "https://localhost:8080/"
        },
        "id": "7jkQJIWEPbxO",
        "outputId": "07bb0ec0-0432-409f-c95c-01b978e310b8"
      },
      "source": [
        "add(3, 5)"
      ],
      "execution_count": 4,
      "outputs": [
        {
          "output_type": "execute_result",
          "data": {
            "text/plain": [
              "8"
            ]
          },
          "metadata": {
            "tags": []
          },
          "execution_count": 4
        }
      ]
    },
    {
      "cell_type": "code",
      "metadata": {
        "id": "G9n_qr1KPeaX"
      },
      "source": [
        "# Default arguments\n",
        "\n",
        "def add(a, b=10):\n",
        "    return a+b"
      ],
      "execution_count": 5,
      "outputs": []
    },
    {
      "cell_type": "code",
      "metadata": {
        "colab": {
          "base_uri": "https://localhost:8080/"
        },
        "id": "Fn1mg0G3Pi3C",
        "outputId": "3b275e1e-7432-4973-8bb2-4b211dc54178"
      },
      "source": [
        "add(5)"
      ],
      "execution_count": 6,
      "outputs": [
        {
          "output_type": "execute_result",
          "data": {
            "text/plain": [
              "15"
            ]
          },
          "metadata": {
            "tags": []
          },
          "execution_count": 6
        }
      ]
    },
    {
      "cell_type": "code",
      "metadata": {
        "id": "am7bWeWoPkxR"
      },
      "source": [
        "# Variable length arguments\n",
        "\n",
        "def add(*num):\n",
        "    s = 0\n",
        "    print(num)\n",
        "    for i in num:\n",
        "        s+=i\n",
        "    return s"
      ],
      "execution_count": 7,
      "outputs": []
    },
    {
      "cell_type": "code",
      "metadata": {
        "colab": {
          "base_uri": "https://localhost:8080/"
        },
        "id": "r_KmucioPxfl",
        "outputId": "f28f9578-7243-4d95-c6c8-76883bfcfb5f"
      },
      "source": [
        "add(1,2,3,4,10,15)"
      ],
      "execution_count": 8,
      "outputs": [
        {
          "output_type": "stream",
          "text": [
            "(1, 2, 3, 4, 10, 15)\n"
          ],
          "name": "stdout"
        },
        {
          "output_type": "execute_result",
          "data": {
            "text/plain": [
              "35"
            ]
          },
          "metadata": {
            "tags": []
          },
          "execution_count": 8
        }
      ]
    },
    {
      "cell_type": "code",
      "metadata": {
        "id": "Wsz8C4NUPz4_"
      },
      "source": [
        "# Pass by value\n",
        "# won't affect original variable\n",
        "\n",
        "def temp(a):\n",
        "    a=5\n",
        "    print(a)"
      ],
      "execution_count": 9,
      "outputs": []
    },
    {
      "cell_type": "code",
      "metadata": {
        "colab": {
          "base_uri": "https://localhost:8080/"
        },
        "id": "H6HCDtCfQOGS",
        "outputId": "e0380a23-1a93-49c6-c6e4-258b8e53e04e"
      },
      "source": [
        "a = 10\n",
        "temp(a)     # 5 is stored in temp"
      ],
      "execution_count": 10,
      "outputs": [
        {
          "output_type": "stream",
          "text": [
            "5\n"
          ],
          "name": "stdout"
        }
      ]
    },
    {
      "cell_type": "code",
      "metadata": {
        "colab": {
          "base_uri": "https://localhost:8080/"
        },
        "id": "ay5RcO7vQP_B",
        "outputId": "18e99c56-61ac-4455-88b5-2bbe5dbb1c25"
      },
      "source": [
        "print(a)"
      ],
      "execution_count": 11,
      "outputs": [
        {
          "output_type": "stream",
          "text": [
            "10\n"
          ],
          "name": "stdout"
        }
      ]
    },
    {
      "cell_type": "code",
      "metadata": {
        "id": "dfqTgxFRQWde"
      },
      "source": [
        "# Pass by reference\n",
        "# it affects the original varible also\n",
        "\n",
        "def temp(l):\n",
        "    l.append(5)\n",
        "    print(l)"
      ],
      "execution_count": 12,
      "outputs": []
    },
    {
      "cell_type": "code",
      "metadata": {
        "colab": {
          "base_uri": "https://localhost:8080/"
        },
        "id": "K25vQmriQevt",
        "outputId": "f1782a92-4772-494d-adb4-967a58a1ab4f"
      },
      "source": [
        "l1 = [1,2,3]\n",
        "temp(l1)"
      ],
      "execution_count": 13,
      "outputs": [
        {
          "output_type": "stream",
          "text": [
            "[1, 2, 3, 5]\n"
          ],
          "name": "stdout"
        }
      ]
    },
    {
      "cell_type": "code",
      "metadata": {
        "colab": {
          "base_uri": "https://localhost:8080/"
        },
        "id": "Y9vwpz3PQgOZ",
        "outputId": "5e5d4567-4fe2-4fe4-ba7f-19eb5e8c967d"
      },
      "source": [
        "print(l1)"
      ],
      "execution_count": 14,
      "outputs": [
        {
          "output_type": "stream",
          "text": [
            "[1, 2, 3, 5]\n"
          ],
          "name": "stdout"
        }
      ]
    },
    {
      "cell_type": "code",
      "metadata": {
        "id": "4DaWp-xDQjJD"
      },
      "source": [
        "# Anonymous functions : lambda\n",
        "\n",
        "add = lambda a,b: a+b"
      ],
      "execution_count": 15,
      "outputs": []
    },
    {
      "cell_type": "code",
      "metadata": {
        "colab": {
          "base_uri": "https://localhost:8080/"
        },
        "id": "ZFRcVSDdQpU4",
        "outputId": "0ae57099-c86c-43e9-e33f-17b36e10bf63"
      },
      "source": [
        "add(5,10)"
      ],
      "execution_count": 16,
      "outputs": [
        {
          "output_type": "execute_result",
          "data": {
            "text/plain": [
              "15"
            ]
          },
          "metadata": {
            "tags": []
          },
          "execution_count": 16
        }
      ]
    },
    {
      "cell_type": "code",
      "metadata": {
        "colab": {
          "base_uri": "https://localhost:8080/"
        },
        "id": "wSYlv039Qre6",
        "outputId": "a33db99b-2d2a-423f-af85-2fd29f8f6a98"
      },
      "source": [
        "print(list(map(lambda x: x**2, l1)))   # Assigning in one line and squaring the values in the list."
      ],
      "execution_count": 17,
      "outputs": [
        {
          "output_type": "stream",
          "text": [
            "[1, 4, 9, 25]\n"
          ],
          "name": "stdout"
        }
      ]
    },
    {
      "cell_type": "code",
      "metadata": {
        "id": "Zs-Fxh5qQueE"
      },
      "source": [
        "# Scope of variables\n",
        "\n",
        "counter = 0\n",
        "def inc():\n",
        "    temp = 0            # Local\n",
        "    global counter      # Global\n",
        "    counter += 1\n",
        "    temp += 1\n",
        "    print(temp, counter)"
      ],
      "execution_count": 18,
      "outputs": []
    },
    {
      "cell_type": "code",
      "metadata": {
        "colab": {
          "base_uri": "https://localhost:8080/"
        },
        "id": "s9HzwB2yQ_po",
        "outputId": "2c36c07a-22c7-43d0-f915-65dc9eba37eb"
      },
      "source": [
        "inc()"
      ],
      "execution_count": 19,
      "outputs": [
        {
          "output_type": "stream",
          "text": [
            "1 1\n"
          ],
          "name": "stdout"
        }
      ]
    },
    {
      "cell_type": "code",
      "metadata": {
        "id": "3__jtfriRDeO"
      },
      "source": [
        "# Return or swapping the values.\n",
        "def swap(a,b):\n",
        "    a,b = b,a\n",
        "    return a,b"
      ],
      "execution_count": 20,
      "outputs": []
    },
    {
      "cell_type": "code",
      "metadata": {
        "colab": {
          "base_uri": "https://localhost:8080/"
        },
        "id": "55RlSE6QRGiG",
        "outputId": "1776a598-541c-4844-d731-947dacaf23a9"
      },
      "source": [
        "a = 5\n",
        "b = 10\n",
        "a, b = swap(a,b)\n",
        "print(a,b)"
      ],
      "execution_count": 21,
      "outputs": [
        {
          "output_type": "stream",
          "text": [
            "10 5\n"
          ],
          "name": "stdout"
        }
      ]
    },
    {
      "cell_type": "code",
      "metadata": {
        "id": "Xvd9rXaZRIv3"
      },
      "source": [
        ""
      ],
      "execution_count": null,
      "outputs": []
    }
  ]
}