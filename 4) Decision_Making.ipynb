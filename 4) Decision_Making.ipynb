{
  "nbformat": 4,
  "nbformat_minor": 0,
  "metadata": {
    "colab": {
      "name": "Decision Making.ipynb",
      "provenance": [],
      "collapsed_sections": []
    },
    "kernelspec": {
      "name": "python3",
      "display_name": "Python 3"
    },
    "language_info": {
      "name": "python"
    }
  },
  "cells": [
    {
      "cell_type": "code",
      "metadata": {
        "colab": {
          "base_uri": "https://localhost:8080/"
        },
        "id": "n_Tequ1ej6Vk",
        "outputId": "86013189-40b2-4d5b-a220-8a8a0d6228b3"
      },
      "source": [
        "# If condition\n",
        "# To check if a number is positive\n",
        "num = 5\n",
        "if num >= 0:\n",
        "    print(\"It is positive\")"
      ],
      "execution_count": null,
      "outputs": [
        {
          "output_type": "stream",
          "text": [
            "It is positive\n"
          ],
          "name": "stdout"
        }
      ]
    },
    {
      "cell_type": "code",
      "metadata": {
        "colab": {
          "base_uri": "https://localhost:8080/"
        },
        "id": "lqap3dZsk5P6",
        "outputId": "3e95efec-59f2-4fae-b867-8f2cd84335a3"
      },
      "source": [
        "# If-else condition\n",
        "# To check if a number is positive or not\n",
        "num = 5\n",
        "if num >= 0:\n",
        "    print(\"It is positive\")\n",
        "else:\n",
        "    print(\"It is negative\")"
      ],
      "execution_count": null,
      "outputs": [
        {
          "output_type": "stream",
          "text": [
            "It is positive\n"
          ],
          "name": "stdout"
        }
      ]
    },
    {
      "cell_type": "code",
      "metadata": {
        "colab": {
          "base_uri": "https://localhost:8080/"
        },
        "id": "eDXFsIDqpaHI",
        "outputId": "fb08c698-03f0-4944-ba32-a1e80b89076b"
      },
      "source": [
        "# if-elif-else condition\n",
        "# check it is positive or negative or zero\n",
        "\n",
        "num = 0\n",
        "if num > 0:\n",
        "    print(\"It is positive\")\n",
        "elif num < 0:\n",
        "    print(\"It is negative\")\n",
        "else:\n",
        "    print(\"It is zero\")"
      ],
      "execution_count": null,
      "outputs": [
        {
          "output_type": "stream",
          "text": [
            "It is zero\n"
          ],
          "name": "stdout"
        }
      ]
    },
    {
      "cell_type": "code",
      "metadata": {
        "colab": {
          "base_uri": "https://localhost:8080/"
        },
        "id": "SonBDM7cpg-G",
        "outputId": "6591801f-f199-4a7a-d813-5c576f2762b2"
      },
      "source": [
        "# Nested if conditions\n",
        "\n",
        "num = 150\n",
        "if num > 0:\n",
        "    if num > 100:\n",
        "        print(\"greater than 100\")\n",
        "    else:\n",
        "        print(\"less than 100\")\n",
        "else:\n",
        "    print(\"less than zero\")"
      ],
      "execution_count": null,
      "outputs": [
        {
          "output_type": "stream",
          "text": [
            "greater than 100\n"
          ],
          "name": "stdout"
        }
      ]
    },
    {
      "cell_type": "code",
      "metadata": {
        "colab": {
          "base_uri": "https://localhost:8080/",
          "height": 35
        },
        "id": "zD1j9KeLpnEN",
        "outputId": "32679314-c275-4370-bf44-ad1e113a488b"
      },
      "source": [
        "# One line if condtion\n",
        "num = 5\n",
        "string = \"even\" if num%2==0 else \"odd\"\n",
        "string"
      ],
      "execution_count": null,
      "outputs": [
        {
          "output_type": "execute_result",
          "data": {
            "application/vnd.google.colaboratory.intrinsic+json": {
              "type": "string"
            },
            "text/plain": [
              "'odd'"
            ]
          },
          "metadata": {
            "tags": []
          },
          "execution_count": 7
        }
      ]
    },
    {
      "cell_type": "code",
      "metadata": {
        "colab": {
          "base_uri": "https://localhost:8080/"
        },
        "id": "lVF_eOl2ppzU",
        "outputId": "6a81b0af-1ba7-44e9-d20a-a1a515a4f2d4"
      },
      "source": [
        "num = 10\n",
        "print(\"even\" if num%2==0 else \"odd\")"
      ],
      "execution_count": null,
      "outputs": [
        {
          "output_type": "stream",
          "text": [
            "even\n"
          ],
          "name": "stdout"
        }
      ]
    },
    {
      "cell_type": "code",
      "metadata": {
        "id": "b-eNsjtRprc-"
      },
      "source": [
        ""
      ],
      "execution_count": null,
      "outputs": []
    }
  ]
}