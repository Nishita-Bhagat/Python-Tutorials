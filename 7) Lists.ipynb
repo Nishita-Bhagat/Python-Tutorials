{
  "nbformat": 4,
  "nbformat_minor": 0,
  "metadata": {
    "colab": {
      "name": "Lists.ipynb",
      "provenance": [],
      "collapsed_sections": []
    },
    "kernelspec": {
      "name": "python3",
      "display_name": "Python 3"
    },
    "language_info": {
      "name": "python"
    }
  },
  "cells": [
    {
      "cell_type": "code",
      "metadata": {
        "id": "8_u4K_wZMmnZ"
      },
      "source": [
        "l = [1, 2.0, \"Nishita\", True]"
      ],
      "execution_count": 1,
      "outputs": []
    },
    {
      "cell_type": "code",
      "metadata": {
        "colab": {
          "base_uri": "https://localhost:8080/"
        },
        "id": "EzMXqUdFTt_1",
        "outputId": "65882fe9-76a8-4af6-bb99-2cd66481850a"
      },
      "source": [
        "l"
      ],
      "execution_count": 2,
      "outputs": [
        {
          "output_type": "execute_result",
          "data": {
            "text/plain": [
              "[1, 2.0, 'Nishita', True]"
            ]
          },
          "metadata": {
            "tags": []
          },
          "execution_count": 2
        }
      ]
    },
    {
      "cell_type": "code",
      "metadata": {
        "id": "pVrfQOYyToZS"
      },
      "source": [
        "# Access the list using index"
      ],
      "execution_count": 4,
      "outputs": []
    },
    {
      "cell_type": "code",
      "metadata": {
        "colab": {
          "base_uri": "https://localhost:8080/"
        },
        "id": "dZvn9eZdTwJq",
        "outputId": "fcf0993a-1aac-4a39-ae16-6c905df49ea4"
      },
      "source": [
        "l[0]"
      ],
      "execution_count": 5,
      "outputs": [
        {
          "output_type": "execute_result",
          "data": {
            "text/plain": [
              "1"
            ]
          },
          "metadata": {
            "tags": []
          },
          "execution_count": 5
        }
      ]
    },
    {
      "cell_type": "code",
      "metadata": {
        "colab": {
          "base_uri": "https://localhost:8080/",
          "height": 35
        },
        "id": "7E_P-CFNT60V",
        "outputId": "f1765441-0bfc-4c0a-ec2e-48d3d6b292fc"
      },
      "source": [
        "l[2]"
      ],
      "execution_count": 6,
      "outputs": [
        {
          "output_type": "execute_result",
          "data": {
            "application/vnd.google.colaboratory.intrinsic+json": {
              "type": "string"
            },
            "text/plain": [
              "'Nishita'"
            ]
          },
          "metadata": {
            "tags": []
          },
          "execution_count": 6
        }
      ]
    },
    {
      "cell_type": "code",
      "metadata": {
        "colab": {
          "base_uri": "https://localhost:8080/"
        },
        "id": "0DgWgpg-T8rg",
        "outputId": "dea12cce-6ea8-48b8-f116-8c904b014b72"
      },
      "source": [
        "# Use negative index to access from reverse\n",
        "l[-1]"
      ],
      "execution_count": 7,
      "outputs": [
        {
          "output_type": "execute_result",
          "data": {
            "text/plain": [
              "True"
            ]
          },
          "metadata": {
            "tags": []
          },
          "execution_count": 7
        }
      ]
    },
    {
      "cell_type": "code",
      "metadata": {
        "colab": {
          "base_uri": "https://localhost:8080/"
        },
        "id": "ARQXHFuNUJkd",
        "outputId": "2b726f3e-ad94-42f8-fc3c-49ee3bf1a763"
      },
      "source": [
        "l[-3]"
      ],
      "execution_count": 8,
      "outputs": [
        {
          "output_type": "execute_result",
          "data": {
            "text/plain": [
              "2.0"
            ]
          },
          "metadata": {
            "tags": []
          },
          "execution_count": 8
        }
      ]
    },
    {
      "cell_type": "code",
      "metadata": {
        "colab": {
          "base_uri": "https://localhost:8080/"
        },
        "id": "0vuWNyutULhY",
        "outputId": "2cdf4c8f-4c0c-423e-f95f-8732e22b6bb7"
      },
      "source": [
        "l"
      ],
      "execution_count": 9,
      "outputs": [
        {
          "output_type": "execute_result",
          "data": {
            "text/plain": [
              "[1, 2.0, 'Nishita', True]"
            ]
          },
          "metadata": {
            "tags": []
          },
          "execution_count": 9
        }
      ]
    },
    {
      "cell_type": "code",
      "metadata": {
        "colab": {
          "base_uri": "https://localhost:8080/"
        },
        "id": "oQ1JJUuRUN3l",
        "outputId": "5d048929-70d0-422d-b113-062bf574312b"
      },
      "source": [
        "l[1:3]     # Slicing"
      ],
      "execution_count": 10,
      "outputs": [
        {
          "output_type": "execute_result",
          "data": {
            "text/plain": [
              "[2.0, 'Nishita']"
            ]
          },
          "metadata": {
            "tags": []
          },
          "execution_count": 10
        }
      ]
    },
    {
      "cell_type": "code",
      "metadata": {
        "colab": {
          "base_uri": "https://localhost:8080/"
        },
        "id": "jNNd_ItfURQE",
        "outputId": "c4879949-5f5b-46a7-faff-c80a21ff7be5"
      },
      "source": [
        "# Accessing reverse\n",
        "l[::-1]"
      ],
      "execution_count": 11,
      "outputs": [
        {
          "output_type": "execute_result",
          "data": {
            "text/plain": [
              "[True, 'Nishita', 2.0, 1]"
            ]
          },
          "metadata": {
            "tags": []
          },
          "execution_count": 11
        }
      ]
    },
    {
      "cell_type": "code",
      "metadata": {
        "colab": {
          "base_uri": "https://localhost:8080/"
        },
        "id": "vkZw_IyjUY9y",
        "outputId": "f2357605-491a-4d16-9498-2a035d66a00a"
      },
      "source": [
        "# Updation\n",
        "l[3] = 'Bhagat'\n",
        "l"
      ],
      "execution_count": 12,
      "outputs": [
        {
          "output_type": "execute_result",
          "data": {
            "text/plain": [
              "[1, 2.0, 'Nishita', 'Bhagat']"
            ]
          },
          "metadata": {
            "tags": []
          },
          "execution_count": 12
        }
      ]
    },
    {
      "cell_type": "code",
      "metadata": {
        "colab": {
          "base_uri": "https://localhost:8080/"
        },
        "id": "eqUFRL6pUew4",
        "outputId": "ce95c5b6-bf76-4e68-bb7c-f4b689db4747"
      },
      "source": [
        "# Delete using the index\n",
        "del l[3]\n",
        "l"
      ],
      "execution_count": 13,
      "outputs": [
        {
          "output_type": "execute_result",
          "data": {
            "text/plain": [
              "[1, 2.0, 'Nishita']"
            ]
          },
          "metadata": {
            "tags": []
          },
          "execution_count": 13
        }
      ]
    },
    {
      "cell_type": "markdown",
      "metadata": {
        "id": "z5SKvI31UxY4"
      },
      "source": [
        "***Basic Operation on list***"
      ]
    },
    {
      "cell_type": "code",
      "metadata": {
        "colab": {
          "base_uri": "https://localhost:8080/"
        },
        "id": "knk2psGZUwgM",
        "outputId": "887b35c1-a297-4623-bbd2-9cf3c41974a2"
      },
      "source": [
        "# Concatenate\n",
        "l2 = [4, 5, True]\n",
        "l = l + l2\n",
        "l"
      ],
      "execution_count": 15,
      "outputs": [
        {
          "output_type": "execute_result",
          "data": {
            "text/plain": [
              "[1, 2.0, 'Nishita', 4, 5, True]"
            ]
          },
          "metadata": {
            "tags": []
          },
          "execution_count": 15
        }
      ]
    },
    {
      "cell_type": "code",
      "metadata": {
        "colab": {
          "base_uri": "https://localhost:8080/"
        },
        "id": "4kcwPGHDUtxt",
        "outputId": "8177ace1-72c8-4aae-cd64-98de09aca9cc"
      },
      "source": [
        "# Repeat certain values\n",
        "l2 = [2] * 10\n",
        "l2"
      ],
      "execution_count": 19,
      "outputs": [
        {
          "output_type": "execute_result",
          "data": {
            "text/plain": [
              "[2, 2, 2, 2, 2, 2, 2, 2, 2, 2]"
            ]
          },
          "metadata": {
            "tags": []
          },
          "execution_count": 19
        }
      ]
    },
    {
      "cell_type": "code",
      "metadata": {
        "colab": {
          "base_uri": "https://localhost:8080/"
        },
        "id": "s8MyvQzRVP1J",
        "outputId": "1673902a-09f9-4508-e0fe-f79d038a1a38"
      },
      "source": [
        "# Iterate values from list using loop\n",
        "for i in l:\n",
        "    print(i)"
      ],
      "execution_count": 20,
      "outputs": [
        {
          "output_type": "stream",
          "text": [
            "1\n",
            "2.0\n",
            "Nishita\n",
            "4\n",
            "5\n",
            "True\n"
          ],
          "name": "stdout"
        }
      ]
    },
    {
      "cell_type": "code",
      "metadata": {
        "colab": {
          "base_uri": "https://localhost:8080/"
        },
        "id": "JCvPolneVdtT",
        "outputId": "a48faf3f-c660-4eed-c17b-02636b65f6df"
      },
      "source": [
        "# Iterate two or more list\n",
        "for i,j in zip(l,l2):\n",
        "    print(i,j)"
      ],
      "execution_count": 21,
      "outputs": [
        {
          "output_type": "stream",
          "text": [
            "1 2\n",
            "2.0 2\n",
            "Nishita 2\n",
            "4 2\n",
            "5 2\n",
            "True 2\n"
          ],
          "name": "stdout"
        }
      ]
    },
    {
      "cell_type": "markdown",
      "metadata": {
        "id": "4gUVcY2w0MxT"
      },
      "source": [
        "***List functions***"
      ]
    },
    {
      "cell_type": "code",
      "metadata": {
        "id": "OW3k2lre0ArT"
      },
      "source": [
        "l = [1,2,3,4,5,6]"
      ],
      "execution_count": 108,
      "outputs": []
    },
    {
      "cell_type": "code",
      "metadata": {
        "colab": {
          "base_uri": "https://localhost:8080/"
        },
        "id": "dazJetVv0QBi",
        "outputId": "ef37ef6a-8663-476b-ca51-93615a36cce7"
      },
      "source": [
        "# To find the minimum \n",
        "min(l)"
      ],
      "execution_count": 109,
      "outputs": [
        {
          "output_type": "execute_result",
          "data": {
            "text/plain": [
              "1"
            ]
          },
          "metadata": {
            "tags": []
          },
          "execution_count": 109
        }
      ]
    },
    {
      "cell_type": "code",
      "metadata": {
        "colab": {
          "base_uri": "https://localhost:8080/"
        },
        "id": "fSH-hlNI0TCx",
        "outputId": "41a9586e-ad8b-4f85-8f95-3828d4404f0a"
      },
      "source": [
        "# To find the maximum\n",
        "max(l)"
      ],
      "execution_count": 110,
      "outputs": [
        {
          "output_type": "execute_result",
          "data": {
            "text/plain": [
              "6"
            ]
          },
          "metadata": {
            "tags": []
          },
          "execution_count": 110
        }
      ]
    },
    {
      "cell_type": "code",
      "metadata": {
        "colab": {
          "base_uri": "https://localhost:8080/"
        },
        "id": "6GNZo0r70WIC",
        "outputId": "882ffa44-08cd-424d-8ba7-f27de8b3a1ec"
      },
      "source": [
        "# List Conversion\n",
        "temp = [\"Hello World\"]\n",
        "temp"
      ],
      "execution_count": 111,
      "outputs": [
        {
          "output_type": "execute_result",
          "data": {
            "text/plain": [
              "['Hello World']"
            ]
          },
          "metadata": {
            "tags": []
          },
          "execution_count": 111
        }
      ]
    },
    {
      "cell_type": "code",
      "metadata": {
        "colab": {
          "base_uri": "https://localhost:8080/"
        },
        "id": "uEW_9WeU0ejo",
        "outputId": "61737e78-c938-436f-fd79-f34169cab87c"
      },
      "source": [
        "# Add an new element at the end of the list\n",
        "l.append(10)\n",
        "print(l)"
      ],
      "execution_count": 112,
      "outputs": [
        {
          "output_type": "stream",
          "text": [
            "[1, 2, 3, 4, 5, 6, 10]\n"
          ],
          "name": "stdout"
        }
      ]
    },
    {
      "cell_type": "code",
      "metadata": {
        "colab": {
          "base_uri": "https://localhost:8080/"
        },
        "id": "Cd7S3kqL0nPv",
        "outputId": "16b908cf-2ee6-4790-ac71-3c0abba37a38"
      },
      "source": [
        "# Remove element from the end of the list\n",
        "t = l.pop()\n",
        "print(t,l)"
      ],
      "execution_count": 113,
      "outputs": [
        {
          "output_type": "stream",
          "text": [
            "10 [1, 2, 3, 4, 5, 6]\n"
          ],
          "name": "stdout"
        }
      ]
    },
    {
      "cell_type": "code",
      "metadata": {
        "colab": {
          "base_uri": "https://localhost:8080/"
        },
        "id": "B2MfMx0c03PJ",
        "outputId": "3a542fe8-f069-4f73-f11f-674bb0845ffa"
      },
      "source": [
        "# Extend list : This method adds all the elements of an iterable (list, tuple, string etc.) to the end of the list.\n",
        "l.extend(temp)\n",
        "l"
      ],
      "execution_count": 114,
      "outputs": [
        {
          "output_type": "execute_result",
          "data": {
            "text/plain": [
              "[1, 2, 3, 4, 5, 6, 'Hello World']"
            ]
          },
          "metadata": {
            "tags": []
          },
          "execution_count": 114
        }
      ]
    },
    {
      "cell_type": "code",
      "metadata": {
        "colab": {
          "base_uri": "https://localhost:8080/"
        },
        "id": "6gopgA171DC2",
        "outputId": "350eae68-7b2f-4203-f638-0d11dfaecb45"
      },
      "source": [
        "# Count of occurence\n",
        "l.count('e')"
      ],
      "execution_count": 118,
      "outputs": [
        {
          "output_type": "execute_result",
          "data": {
            "text/plain": [
              "0"
            ]
          },
          "metadata": {
            "tags": []
          },
          "execution_count": 118
        }
      ]
    },
    {
      "cell_type": "code",
      "metadata": {
        "colab": {
          "base_uri": "https://localhost:8080/"
        },
        "id": "yJF5dGU21Q7P",
        "outputId": "d9de9e9e-255e-49ac-93d1-67aa777a781a"
      },
      "source": [
        "# Find index of element from the list\n",
        "l.index(4)"
      ],
      "execution_count": 119,
      "outputs": [
        {
          "output_type": "execute_result",
          "data": {
            "text/plain": [
              "3"
            ]
          },
          "metadata": {
            "tags": []
          },
          "execution_count": 119
        }
      ]
    },
    {
      "cell_type": "code",
      "metadata": {
        "id": "EarUkr7g1gt4"
      },
      "source": [
        "# Insert new element at certain index\n",
        "l.insert(5, 7)"
      ],
      "execution_count": 120,
      "outputs": []
    },
    {
      "cell_type": "code",
      "metadata": {
        "colab": {
          "base_uri": "https://localhost:8080/"
        },
        "id": "T_9dMrKf107O",
        "outputId": "38ece41b-fb98-4e54-ec1d-5df9ba7afede"
      },
      "source": [
        "print(l)"
      ],
      "execution_count": 124,
      "outputs": [
        {
          "output_type": "stream",
          "text": [
            "[1, 2, 3, 4, 5, 7, 6, 'Hello World']\n"
          ],
          "name": "stdout"
        }
      ]
    },
    {
      "cell_type": "code",
      "metadata": {
        "colab": {
          "base_uri": "https://localhost:8080/"
        },
        "id": "_z0x1qHf13uF",
        "outputId": "2d700c0e-014a-4a9c-d5f5-1ece8fc62c23"
      },
      "source": [
        "# Remove element\n",
        "l.remove(5)\n",
        "l"
      ],
      "execution_count": 128,
      "outputs": [
        {
          "output_type": "execute_result",
          "data": {
            "text/plain": [
              "[1, 2, 3, 4, 7, 6, 'Hello World']"
            ]
          },
          "metadata": {
            "tags": []
          },
          "execution_count": 128
        }
      ]
    },
    {
      "cell_type": "code",
      "metadata": {
        "colab": {
          "base_uri": "https://localhost:8080/"
        },
        "id": "W_tJ-2qm2nI0",
        "outputId": "8da9469b-9104-459a-a192-3ae9d71ad560"
      },
      "source": [
        "# Insert element\n",
        "l.insert(6, 'y')\n",
        "print(l)"
      ],
      "execution_count": 129,
      "outputs": [
        {
          "output_type": "stream",
          "text": [
            "[1, 2, 3, 4, 7, 6, 'y', 'Hello World']\n"
          ],
          "name": "stdout"
        }
      ]
    },
    {
      "cell_type": "code",
      "metadata": {
        "colab": {
          "base_uri": "https://localhost:8080/"
        },
        "id": "ZB5vfzgp2Bt2",
        "outputId": "642843a2-75e1-4c26-8826-f187ec110b81"
      },
      "source": [
        "# Reversing the list\n",
        "l.reverse()\n",
        "print(l)"
      ],
      "execution_count": 130,
      "outputs": [
        {
          "output_type": "stream",
          "text": [
            "['Hello World', 'y', 6, 7, 4, 3, 2, 1]\n"
          ],
          "name": "stdout"
        }
      ]
    },
    {
      "cell_type": "code",
      "metadata": {
        "colab": {
          "base_uri": "https://localhost:8080/"
        },
        "id": "lWfZVZ_u2IXX",
        "outputId": "5598abb3-d6bc-4582-8c62-199c104837e3"
      },
      "source": [
        "# Sorting reverse list \n",
        "temp.sort(reverse=True)\n",
        "print(temp)"
      ],
      "execution_count": 131,
      "outputs": [
        {
          "output_type": "stream",
          "text": [
            "['Hello World']\n"
          ],
          "name": "stdout"
        }
      ]
    },
    {
      "cell_type": "code",
      "metadata": {
        "colab": {
          "base_uri": "https://localhost:8080/"
        },
        "id": "3t9E3WiY2YgD",
        "outputId": "ac0f4268-b63e-424c-b838-dbc0847d8be7"
      },
      "source": [
        "t = sorted(temp)\n",
        "print(t)\n",
        "print(temp)"
      ],
      "execution_count": 132,
      "outputs": [
        {
          "output_type": "stream",
          "text": [
            "['Hello World']\n",
            "['Hello World']\n"
          ],
          "name": "stdout"
        }
      ]
    },
    {
      "cell_type": "markdown",
      "metadata": {
        "id": "EEGw2R-M8KeI"
      },
      "source": [
        "***List Comprehension***"
      ]
    },
    {
      "cell_type": "code",
      "metadata": {
        "colab": {
          "base_uri": "https://localhost:8080/"
        },
        "id": "XBcBQuJZ2j1J",
        "outputId": "0af9fbed-c846-4554-d8de-d775fc8008d4"
      },
      "source": [
        "temp = [0 for i in range(5)]\n",
        "temp"
      ],
      "execution_count": 133,
      "outputs": [
        {
          "output_type": "execute_result",
          "data": {
            "text/plain": [
              "[0, 0, 0, 0, 0]"
            ]
          },
          "metadata": {
            "tags": []
          },
          "execution_count": 133
        }
      ]
    },
    {
      "cell_type": "code",
      "metadata": {
        "colab": {
          "base_uri": "https://localhost:8080/"
        },
        "id": "2MDYMdpa3Xrk",
        "outputId": "87411493-e456-4e87-ec50-22a0f8419e1f"
      },
      "source": [
        "temp = [i for i in range(5)]\n",
        "temp"
      ],
      "execution_count": 134,
      "outputs": [
        {
          "output_type": "execute_result",
          "data": {
            "text/plain": [
              "[0, 1, 2, 3, 4]"
            ]
          },
          "metadata": {
            "tags": []
          },
          "execution_count": 134
        }
      ]
    },
    {
      "cell_type": "code",
      "metadata": {
        "colab": {
          "base_uri": "https://localhost:8080/"
        },
        "id": "yrtnzcc48QhS",
        "outputId": "8924d0cc-b9d1-4645-8fd0-71b2ce580041"
      },
      "source": [
        "# Create a matrix\n",
        "mat = [[] for i in range(3)]\n",
        "mat"
      ],
      "execution_count": 135,
      "outputs": [
        {
          "output_type": "execute_result",
          "data": {
            "text/plain": [
              "[[], [], []]"
            ]
          },
          "metadata": {
            "tags": []
          },
          "execution_count": 135
        }
      ]
    },
    {
      "cell_type": "code",
      "metadata": {
        "colab": {
          "base_uri": "https://localhost:8080/"
        },
        "id": "p79eB17s8UKo",
        "outputId": "1e4f36ad-7ddf-4a29-9fa3-77baab9892a5"
      },
      "source": [
        "mat = [[0 for j in range(3)] for i in range(3)]\n",
        "mat"
      ],
      "execution_count": 136,
      "outputs": [
        {
          "output_type": "execute_result",
          "data": {
            "text/plain": [
              "[[0, 0, 0], [0, 0, 0], [0, 0, 0]]"
            ]
          },
          "metadata": {
            "tags": []
          },
          "execution_count": 136
        }
      ]
    },
    {
      "cell_type": "code",
      "metadata": {
        "colab": {
          "base_uri": "https://localhost:8080/"
        },
        "id": "3f3n-gr68W4G",
        "outputId": "e6ad091c-c663-49fd-f93f-2055267a689c"
      },
      "source": [
        "for row in mat:\n",
        "    print(*row)"
      ],
      "execution_count": 137,
      "outputs": [
        {
          "output_type": "stream",
          "text": [
            "0 0 0\n",
            "0 0 0\n",
            "0 0 0\n"
          ],
          "name": "stdout"
        }
      ]
    },
    {
      "cell_type": "code",
      "metadata": {
        "id": "0IzJUyWp8bjc"
      },
      "source": [
        ""
      ],
      "execution_count": null,
      "outputs": []
    }
  ]
}