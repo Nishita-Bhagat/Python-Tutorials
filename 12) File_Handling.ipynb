{
  "nbformat": 4,
  "nbformat_minor": 0,
  "metadata": {
    "colab": {
      "name": "File Handling.ipynb",
      "provenance": [],
      "collapsed_sections": []
    },
    "kernelspec": {
      "name": "python3",
      "display_name": "Python 3"
    },
    "language_info": {
      "name": "python"
    }
  },
  "cells": [
    {
      "cell_type": "code",
      "metadata": {
        "id": "-aadTqkUVgon"
      },
      "source": [
        "# Open the file in current directory - example.\n",
        "file = open(\"Test.txt\", 'r')   # r- reading"
      ],
      "execution_count": null,
      "outputs": []
    },
    {
      "cell_type": "code",
      "metadata": {
        "id": "uUGy2brDF7xL"
      },
      "source": [
        "# Specifying the full path - example.\n",
        "f = open(\"C:/Python38/README.txt\")"
      ],
      "execution_count": null,
      "outputs": []
    },
    {
      "cell_type": "code",
      "metadata": {
        "id": "Y1uEf27dGMue"
      },
      "source": [
        "# Read the file\n",
        "str = file.read()"
      ],
      "execution_count": null,
      "outputs": []
    },
    {
      "cell_type": "code",
      "metadata": {
        "id": "lqQai_1FG-6A"
      },
      "source": [
        "# Close the file\n",
        "file.close()"
      ],
      "execution_count": null,
      "outputs": []
    },
    {
      "cell_type": "code",
      "metadata": {
        "id": "YLktthq6G6ND"
      },
      "source": [
        "# Alternate operation - with keyword\n",
        "with open(\"input.txt\", 'r') as file:\n",
        "    print(file.read())"
      ],
      "execution_count": null,
      "outputs": []
    },
    {
      "cell_type": "code",
      "metadata": {
        "id": "CnB1FpqqHFQk"
      },
      "source": [
        "# access modes\n",
        "# r - read \n",
        "# w - write\n",
        "# a - append\n",
        "# r+,w+,a+ - both modes\n",
        "# rb,wb,ab - access in binary format"
      ],
      "execution_count": null,
      "outputs": []
    },
    {
      "cell_type": "code",
      "metadata": {
        "id": "6gqjCoVSHIDG"
      },
      "source": [
        "# Read certain characters\n",
        "file.read(5)"
      ],
      "execution_count": null,
      "outputs": []
    },
    {
      "cell_type": "code",
      "metadata": {
        "id": "JIqqzRt2HMGQ"
      },
      "source": [
        "# Position of file pointer\n",
        "file.tell()"
      ],
      "execution_count": null,
      "outputs": []
    },
    {
      "cell_type": "code",
      "metadata": {
        "id": "2SIiZCa1M7Le"
      },
      "source": [
        "\n",
        "# go to certain point of file\n",
        "file.seek(10, 0)\n",
        "file.tell()         # Get the current file position"
      ],
      "execution_count": null,
      "outputs": []
    },
    {
      "cell_type": "code",
      "metadata": {
        "id": "4obgn3g-NQII"
      },
      "source": [
        "# Write operation - example\n",
        "with open(\"input.txt\", 'w') as file:\n",
        "    file.write(\"You are awesome\")"
      ],
      "execution_count": null,
      "outputs": []
    },
    {
      "cell_type": "code",
      "metadata": {
        "id": "6DSgbFeYNUC9"
      },
      "source": [
        "# Os module\n",
        "import os"
      ],
      "execution_count": 8,
      "outputs": []
    },
    {
      "cell_type": "code",
      "metadata": {
        "colab": {
          "base_uri": "https://localhost:8080/"
        },
        "id": "jkDXdy6DNo4A",
        "outputId": "e7bcd931-243a-4a9b-d6fd-e6195fde3c8e"
      },
      "source": [
        "# list the files\n",
        "os.listdir()"
      ],
      "execution_count": 9,
      "outputs": [
        {
          "output_type": "execute_result",
          "data": {
            "text/plain": [
              "['.config', 'sample_data']"
            ]
          },
          "metadata": {
            "tags": []
          },
          "execution_count": 9
        }
      ]
    },
    {
      "cell_type": "code",
      "metadata": {
        "id": "TCkxfzvzNpBK"
      },
      "source": [
        "# To get path of current dir\n",
        "os.getcwd()"
      ],
      "execution_count": null,
      "outputs": []
    },
    {
      "cell_type": "code",
      "metadata": {
        "id": "OpU6Z4umNpFB"
      },
      "source": [
        "# Rename the file\n",
        "os.rename(\"input.txt\", \"test.txt\")"
      ],
      "execution_count": null,
      "outputs": []
    },
    {
      "cell_type": "code",
      "metadata": {
        "id": "WUwbX5uXOt4x"
      },
      "source": [
        "os.listdir()   # Listing the files from directory"
      ],
      "execution_count": null,
      "outputs": []
    },
    {
      "cell_type": "code",
      "metadata": {
        "id": "mgRehFGVOt7i"
      },
      "source": [
        "# Remove the file\n",
        "os.remove(\"test.txt\")"
      ],
      "execution_count": null,
      "outputs": []
    },
    {
      "cell_type": "code",
      "metadata": {
        "id": "a6OUZJ_dOt-H"
      },
      "source": [
        "# Create a new directory\n",
        "os.mkdir(\"demo\")\n",
        "os.listdir()"
      ],
      "execution_count": null,
      "outputs": []
    },
    {
      "cell_type": "code",
      "metadata": {
        "id": "jurCBRd7O5I_"
      },
      "source": [
        "# Remove directory\n",
        "os.rmdir(\"demo\")\n",
        "os.listdir()"
      ],
      "execution_count": null,
      "outputs": []
    },
    {
      "cell_type": "code",
      "metadata": {
        "id": "YyatuxUCPEK0"
      },
      "source": [
        ""
      ],
      "execution_count": null,
      "outputs": []
    }
  ]
}